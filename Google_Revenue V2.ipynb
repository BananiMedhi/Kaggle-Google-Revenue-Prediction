{
 "cells": [
  {
   "cell_type": "code",
   "execution_count": 3,
   "metadata": {},
   "outputs": [
    {
     "data": {
      "text/html": [
       "<script>requirejs.config({paths: { 'plotly': ['https://cdn.plot.ly/plotly-latest.min']},});if(!window.Plotly) {{require(['plotly'],function(plotly) {window.Plotly=plotly;});}}</script>"
      ],
      "text/vnd.plotly.v1+html": [
       "<script>requirejs.config({paths: { 'plotly': ['https://cdn.plot.ly/plotly-latest.min']},});if(!window.Plotly) {{require(['plotly'],function(plotly) {window.Plotly=plotly;});}}</script>"
      ]
     },
     "metadata": {},
     "output_type": "display_data"
    }
   ],
   "source": [
    "import pandas as pd\n",
    "import numpy as np\n",
    "import json\n",
    "from pandas.io.json import json_normalize\n",
    "import matplotlib.pyplot as plt\n",
    "import seaborn as sns\n",
    "%matplotlib inline\n",
    "\n",
    "import plotly\n",
    "import plotly.plotly as py  \n",
    "import plotly.graph_objs as go\n",
    "from plotly.offline import download_plotlyjs, init_notebook_mode, plot, iplot\n",
    "init_notebook_mode(connected=True)\n",
    "\n",
    "from sklearn.preprocessing import StandardScaler  \n",
    "\n",
    "from sklearn.metrics import mean_squared_error\n",
    "import math"
   ]
  },
  {
   "cell_type": "markdown",
   "metadata": {},
   "source": [
    "## 1. Data Cleaning"
   ]
  },
  {
   "cell_type": "code",
   "execution_count": 4,
   "metadata": {
    "collapsed": true
   },
   "outputs": [],
   "source": [
    "#1. json flatteing and adding as new columns\n",
    "def load_df(path):\n",
    "    df = pd.read_csv(path, dtype={'fullVisitorId': 'str'})\n",
    "    JSON_COLS = ['totals','trafficSource','device','geoNetwork']\n",
    "    for json_col in JSON_COLS: \n",
    "        inp_df = pd.DataFrame(df.pop(json_col).apply(pd.io.json.loads).values.tolist(), index=df.index)\n",
    "        df = df.join(inp_df) \n",
    "     \n",
    "    #json columns of columns\n",
    "    inp_df = pd.DataFrame(df.pop('adwordsClickInfo').values.tolist(), index=df.index)\n",
    "    df = df.join(inp_df)     \n",
    "    return df"
   ]
  },
  {
   "cell_type": "code",
   "execution_count": 5,
   "metadata": {},
   "outputs": [
    {
     "name": "stdout",
     "output_type": "stream",
     "text": [
      "Wall time: 51.7 s\n"
     ]
    }
   ],
   "source": [
    "%%time\n",
    "train_df = load_df(\"train.csv\")\n",
    "train_df.shape"
   ]
  },
  {
   "cell_type": "code",
   "execution_count": 6,
   "metadata": {},
   "outputs": [
    {
     "name": "stdout",
     "output_type": "stream",
     "text": [
      "Wall time: 58.1 s\n"
     ]
    }
   ],
   "source": [
    "%%time\n",
    "test_df = load_df(\"test.csv\")\n",
    "test_df.shape"
   ]
  },
  {
   "cell_type": "code",
   "execution_count": 7,
   "metadata": {},
   "outputs": [
    {
     "name": "stdout",
     "output_type": "stream",
     "text": [
      "Wall time: 3.95 s\n"
     ]
    }
   ],
   "source": [
    "%%time\n",
    "df = train_df.copy()"
   ]
  },
  {
   "cell_type": "code",
   "execution_count": 8,
   "metadata": {},
   "outputs": [
    {
     "name": "stdout",
     "output_type": "stream",
     "text": [
      "Wall time: 4.02 s\n"
     ]
    }
   ],
   "source": [
    "%%time\n",
    "test_data = test_df.copy()"
   ]
  },
  {
   "cell_type": "code",
   "execution_count": 9,
   "metadata": {},
   "outputs": [
    {
     "data": {
      "text/plain": [
       "(804684, 54)"
      ]
     },
     "execution_count": 9,
     "metadata": {},
     "output_type": "execute_result"
    }
   ],
   "source": [
    "test_data.shape"
   ]
  },
  {
   "cell_type": "code",
   "execution_count": 10,
   "metadata": {
    "collapsed": true
   },
   "outputs": [],
   "source": [
    "# test_data.count()"
   ]
  },
  {
   "cell_type": "code",
   "execution_count": 11,
   "metadata": {},
   "outputs": [
    {
     "data": {
      "text/plain": [
       "(903653, 56)"
      ]
     },
     "execution_count": 11,
     "metadata": {},
     "output_type": "execute_result"
    }
   ],
   "source": [
    "df.shape\n",
    "#df.count()"
   ]
  },
  {
   "cell_type": "code",
   "execution_count": 12,
   "metadata": {
    "collapsed": true
   },
   "outputs": [],
   "source": [
    "#2. replacing unknown values with nan\n",
    "def replace_df_vals(df):\n",
    "    df.replace({'(not set)': np.nan,\n",
    "               'not available in demo dataset': np.nan,\n",
    "               '(not provided)': np.nan,\n",
    "               'unknown.unknown': np.nan,\n",
    "               '(none)':np.nan,\n",
    "               '/':np.nan,\n",
    "               'Not Socially Engaged':np.nan},\n",
    "               inplace=True) "
   ]
  },
  {
   "cell_type": "code",
   "execution_count": 13,
   "metadata": {},
   "outputs": [
    {
     "name": "stdout",
     "output_type": "stream",
     "text": [
      "Wall time: 2min 18s\n"
     ]
    }
   ],
   "source": [
    "%%time\n",
    "replace_df_vals(df)"
   ]
  },
  {
   "cell_type": "code",
   "execution_count": 14,
   "metadata": {},
   "outputs": [
    {
     "name": "stdout",
     "output_type": "stream",
     "text": [
      "Wall time: 2min 39s\n"
     ]
    }
   ],
   "source": [
    "%%time\n",
    "replace_df_vals(test_data)"
   ]
  },
  {
   "cell_type": "code",
   "execution_count": 15,
   "metadata": {
    "collapsed": true
   },
   "outputs": [],
   "source": [
    "#3. drop all columns having only NaN's--- 32 from 50\n",
    "df = df.dropna(axis=1, how='all')\n",
    "\n",
    "#4. drop columns having single value and all nans\n",
    "df.drop('campaignCode', axis=1, inplace=True)\n",
    "# df.shape"
   ]
  },
  {
   "cell_type": "code",
   "execution_count": 16,
   "metadata": {},
   "outputs": [
    {
     "data": {
      "text/plain": [
       "(903653, 34)"
      ]
     },
     "execution_count": 16,
     "metadata": {},
     "output_type": "execute_result"
    }
   ],
   "source": [
    "#5. drop columns having single unique values\n",
    "# df.newVisits.unique().tolist()\n",
    "# df.bounces.unique().tolist()\n",
    "df.drop('newVisits', axis=1, inplace=True)\n",
    "df.drop('bounces', axis=1, inplace=True)\n",
    "df.drop('targetingCriteria', axis=1, inplace=True)\n",
    "df.shape"
   ]
  },
  {
   "cell_type": "code",
   "execution_count": 17,
   "metadata": {},
   "outputs": [
    {
     "data": {
      "text/plain": [
       "(804684, 33)"
      ]
     },
     "execution_count": 17,
     "metadata": {},
     "output_type": "execute_result"
    }
   ],
   "source": [
    "test_data = test_data.dropna(axis=1, how='all')\n",
    "#test_data.drop('campaignCode', axis=1, inplace=True)\n",
    "test_data.drop('newVisits', axis=1, inplace=True)\n",
    "test_data.drop('bounces', axis=1, inplace=True)\n",
    "test_data.drop('targetingCriteria', axis=1, inplace=True)\n",
    "test_data.shape"
   ]
  },
  {
   "cell_type": "code",
   "execution_count": 18,
   "metadata": {
    "collapsed": true
   },
   "outputs": [],
   "source": [
    "#6 Impute 0 for missing target values\n",
    "df[\"transactionRevenue\"].fillna(0, inplace=True)"
   ]
  },
  {
   "cell_type": "code",
   "execution_count": 19,
   "metadata": {
    "collapsed": true
   },
   "outputs": [],
   "source": [
    "df[\"pageviews\"].fillna(0, inplace=True)\n",
    "df[\"pageviews\"] = df[\"pageviews\"].astype('float')\n",
    "df[\"hits\"].fillna(0, inplace=True)\n",
    "df[\"hits\"] = df[\"hits\"].astype('float')"
   ]
  },
  {
   "cell_type": "code",
   "execution_count": 20,
   "metadata": {
    "collapsed": true
   },
   "outputs": [],
   "source": [
    "test_data[\"pageviews\"].fillna(0, inplace=True)\n",
    "test_data[\"pageviews\"] = df[\"pageviews\"].astype('float')\n",
    "test_data[\"hits\"].fillna(0, inplace=True)\n",
    "test_data[\"hits\"] = df[\"hits\"].astype('float')"
   ]
  },
  {
   "cell_type": "code",
   "execution_count": 21,
   "metadata": {},
   "outputs": [
    {
     "data": {
      "text/plain": [
       "(804684, 33)"
      ]
     },
     "execution_count": 21,
     "metadata": {},
     "output_type": "execute_result"
    }
   ],
   "source": [
    "test_data.shape"
   ]
  },
  {
   "cell_type": "code",
   "execution_count": 22,
   "metadata": {
    "collapsed": true
   },
   "outputs": [],
   "source": [
    "df['date'] = pd.to_datetime((df['date']).astype(str), format = '%Y-%m-%d')\n",
    "df[['year', 'month', 'day']] = df['date'].astype(str).str.split('-', expand = True)    \n",
    "df.drop('date', axis =1,inplace = True)"
   ]
  },
  {
   "cell_type": "code",
   "execution_count": 23,
   "metadata": {
    "collapsed": true
   },
   "outputs": [],
   "source": [
    "test_data['date'] = pd.to_datetime((test_data['date']).astype(str), format = '%Y-%m-%d')\n",
    "test_data[['year', 'month', 'day']] = test_data['date'].astype(str).str.split('-', expand = True)    \n",
    "test_data.drop('date', axis =1,inplace = True)"
   ]
  },
  {
   "cell_type": "code",
   "execution_count": 24,
   "metadata": {
    "collapsed": true
   },
   "outputs": [],
   "source": [
    "df[\"transactionRevenue\"] = df[\"transactionRevenue\"].astype('float')\n",
    "df['transactionRevenue_log'] = np.log(df[df['transactionRevenue'] > 0][\"transactionRevenue\"] + 0.01) "
   ]
  },
  {
   "cell_type": "markdown",
   "metadata": {},
   "source": [
    "## 2. a) Revenue v/s number of people"
   ]
  },
  {
   "cell_type": "code",
   "execution_count": 25,
   "metadata": {},
   "outputs": [
    {
     "data": {
      "image/png": "[encoded data removed]",
      "text/plain": [
       "<matplotlib.figure.Figure at 0x176303b00>"
      ]
     },
     "metadata": {},
     "output_type": "display_data"
    }
   ],
   "source": [
    "gdf = df.groupby(\"fullVisitorId\")[\"transactionRevenue\"].sum().reset_index()\n",
    "fig = plt.figure(figsize=(8,6))\n",
    "plt.title('Revenue Vs People', fontsize = 16) \n",
    "plt.scatter(range(gdf.shape[0]), np.sort(np.log1p(gdf[\"transactionRevenue\"].values)))\n",
    "plt.xlabel('Index', fontsize=14)\n",
    "plt.ylabel('Transaction Revenue', fontsize=14)\n",
    "plt.savefig('2a.png')\n",
    "plt.show()"
   ]
  },
  {
   "cell_type": "code",
   "execution_count": 26,
   "metadata": {
    "collapsed": true
   },
   "outputs": [],
   "source": [
    "nonzr = (gdf[\"transactionRevenue\"]>0).sum()\n",
    "ans = (nonzr*100)/gdf.shape[0]"
   ]
  },
  {
   "cell_type": "markdown",
   "metadata": {},
   "source": [
    "## 2. b) Revenue generated in the Browsers"
   ]
  },
  {
   "cell_type": "code",
   "execution_count": 27,
   "metadata": {},
   "outputs": [
    {
     "name": "stdout",
     "output_type": "stream",
     "text": [
      "Chrome               620364\n",
      "Safari               182245\n",
      "Firefox               37069\n",
      "Internet Explorer     19375\n",
      "Edge                  10205\n",
      "Android Webview        7865\n",
      "Safari (in-app)        6850\n",
      "Opera Mini             6139\n",
      "Opera                  5643\n",
      "UC Browser             2427\n",
      "Name: browser, dtype: int64\n"
     ]
    }
   ],
   "source": [
    "print(df['browser'].value_counts()[:10] )"
   ]
  },
  {
   "cell_type": "code",
   "execution_count": 28,
   "metadata": {},
   "outputs": [
    {
     "name": "stderr",
     "output_type": "stream",
     "text": [
      "C:\\Users\\rajes\\Anaconda2\\lib\\site-packages\\seaborn\\categorical.py:454: FutureWarning:\n",
      "\n",
      "remove_na is deprecated and is a private function. Do not use.\n",
      "\n"
     ]
    },
    {
     "data": {
      "image/png": "[encoded data removed]",
      "text/plain": [
       "<matplotlib.figure.Figure at 0x1905c0f60>"
      ]
     },
     "metadata": {},
     "output_type": "display_data"
    }
   ],
   "source": [
    "plt.figure(figsize=(12,5)) \n",
    "g1 = sns.boxplot(x='transactionRevenue_log', y='browser',\n",
    "                   data=df[df['browser'].isin(df['browser'].value_counts()[:10].index.values)])\n",
    "g1.set_title('Browsers and Revenue Log', fontsize = 16) \n",
    "g1.set_ylabel('Browsers', fontsize=14) \n",
    "g1.set_xlabel('Revenue_Log Distribution', fontsize=14) \n",
    "plt.savefig('2b.png')\n",
    "plt.show()"
   ]
  },
  {
   "cell_type": "code",
   "execution_count": 29,
   "metadata": {
    "collapsed": true
   },
   "outputs": [],
   "source": [
    "# gdf = df.groupby(\"browser\")[\"transactionRevenue\"].sum()\n",
    "# gdf"
   ]
  },
  {
   "cell_type": "markdown",
   "metadata": {
    "collapsed": true
   },
   "source": [
    "## 2. c) Channel Grouping and Browsers"
   ]
  },
  {
   "cell_type": "code",
   "execution_count": 30,
   "metadata": {},
   "outputs": [
    {
     "name": "stdout",
     "output_type": "stream",
     "text": [
      "Organic Search    381561\n",
      "Social            226117\n",
      "Direct            143026\n",
      "Referral          104838\n",
      "Paid Search        25326\n",
      "Affiliates         16403\n",
      "Display             6262\n",
      "(Other)              120\n",
      "Name: channelGrouping, dtype: int64\n"
     ]
    },
    {
     "name": "stderr",
     "output_type": "stream",
     "text": [
      "C:\\Users\\rajes\\Anaconda2\\lib\\site-packages\\seaborn\\categorical.py:1428: FutureWarning:\n",
      "\n",
      "remove_na is deprecated and is a private function. Do not use.\n",
      "\n"
     ]
    },
    {
     "data": {
      "image/png": "[encoded data removed]",
      "text/plain": [
       "<matplotlib.figure.Figure at 0x176303278>"
      ]
     },
     "metadata": {},
     "output_type": "display_data"
    }
   ],
   "source": [
    "print df['channelGrouping'].value_counts()[:10]\n",
    "sns.countplot(df[\"channelGrouping\"], palette=\"hls\") \n",
    "plt.title(\"Histogram of Channel Grouping\", fontsize=14) \n",
    "plt.xlabel(\"Type\", fontsize=12)\n",
    "plt.ylabel(\"Count\", fontsize=12) \n",
    "plt.show()"
   ]
  },
  {
   "cell_type": "code",
   "execution_count": 31,
   "metadata": {},
   "outputs": [
    {
     "data": {
      "image/png": "[encoded data removed]",
      "text/plain": [
       "<matplotlib.figure.Figure at 0x1762acf28>"
      ]
     },
     "metadata": {},
     "output_type": "display_data"
    }
   ],
   "source": [
    "cgb = pd.crosstab(index=df['channelGrouping'], normalize=True, columns=df[df['browser'].isin(df['browser'].value_counts()[:5].index.values)]['browser'])\n",
    "cgb.plot(kind=\"bar\", figsize=(12,6), stacked=True)   \n",
    "plt.title(\"Channel Grouping Divided for Each Browser\", fontsize=16)\n",
    "plt.xlabel(\"Channels\", fontsize=14)\n",
    "plt.ylabel(\"Channel Count\", fontsize=14)\n",
    "plt.savefig('2c.png')\n",
    "plt.show() "
   ]
  },
  {
   "cell_type": "markdown",
   "metadata": {},
   "source": [
    "## 3. Clustering by Geography"
   ]
  },
  {
   "cell_type": "code",
   "execution_count": 32,
   "metadata": {
    "collapsed": true
   },
   "outputs": [],
   "source": [
    "# geoDf = df.copy()"
   ]
  },
  {
   "cell_type": "code",
   "execution_count": 33,
   "metadata": {
    "collapsed": true
   },
   "outputs": [],
   "source": [
    "# geoDf['isAsia'] = np.where(geoDf['continent'] == 'Asia', 1, 0)\n",
    "# geoDf['isAmericas'] = np.where(geoDf['continent'] == 'Americas', 1, 0)\n",
    "# geoDf['isOceania'] = np.where(geoDf['continent'] == 'Oceania', 1, 0)\n",
    "# geoDf['isAfrica'] = np.where(geoDf['continent'] == 'Africa', 1, 0)\n",
    "# geoDf['isEurope'] = np.where(geoDf['continent'] == 'Europe', 1, 0)\n",
    "\n",
    "# geoDf.continent[geoDf.continent == \"Asia\"] = 1\n",
    "# geoDf.continent[geoDf.continent == \"Africa\"] = 2\n",
    "# geoDf.continent[geoDf.continent == \"Oceania\"] = 3 \n",
    "# geoDf.continent[geoDf.continent == \"Europe\"] = 4\n",
    "# geoDf.continent[geoDf.continent == \"Americas\"] = 5"
   ]
  },
  {
   "cell_type": "code",
   "execution_count": 34,
   "metadata": {
    "collapsed": true
   },
   "outputs": [],
   "source": [
    "# geoDf[\"continent\"].fillna(0, inplace=True)"
   ]
  },
  {
   "cell_type": "code",
   "execution_count": 35,
   "metadata": {
    "collapsed": true
   },
   "outputs": [],
   "source": [
    "# geoDf1 = geoDf[['hits', 'visits', \n",
    "#           'pageviews',\"isAsia\",\"isAmericas\",'isOceania',\"isAfrica\", 'isEurope', 'transactionRevenue']]\n",
    "\n",
    "# # geoDf1 = geoDf[['isMobile','hits', 'visits', \n",
    "# #           'pageviews', 'transactionRevenue', 'continent']]\n",
    "\n",
    "# #cor = geoDf1.corr() \n",
    "# #print cor\n",
    "# #sns.heatmap(cor, square = True) "
   ]
  },
  {
   "cell_type": "code",
   "execution_count": 36,
   "metadata": {
    "collapsed": true
   },
   "outputs": [],
   "source": [
    "# ss = StandardScaler()\n",
    "# ss.fit_transform(geoDf1)"
   ]
  },
  {
   "cell_type": "code",
   "execution_count": 37,
   "metadata": {
    "collapsed": true
   },
   "outputs": [],
   "source": [
    "# #K means Clustering \n",
    "# def doKmeans(X, nclust=2):\n",
    "#     model = KMeans(nclust)\n",
    "#     model.fit(X)\n",
    "#     clust_labels = model.predict(X)\n",
    "#     cent = model.cluster_centers_\n",
    "#     return (clust_labels, cent)\n",
    "\n",
    "# clust_labels, cent = doKmeans(geoDf1, 2)\n",
    "# kmeans = pd.DataFrame(clust_labels)\n",
    "# geoDf1.insert((geoDf1.shape[1]),'kmeans',kmeans)"
   ]
  },
  {
   "cell_type": "code",
   "execution_count": 38,
   "metadata": {
    "collapsed": true
   },
   "outputs": [],
   "source": [
    "# geoDf1.hits.unique().tolist()"
   ]
  },
  {
   "cell_type": "code",
   "execution_count": 39,
   "metadata": {
    "collapsed": true
   },
   "outputs": [],
   "source": [
    "# #Plot the clusters obtained using k means\n",
    "# fig = plt.figure()\n",
    "# #ax = fig.add_subplot(111)\n",
    "# scatter = ax.scatter(geoDf1['continent'],geoDf1['hits'],\n",
    "#                      c=geoDf1.continent)\n",
    "# ax.set_title('K-Means Clustering')\n",
    "# ax.set_xlabel('')\n",
    "# ax.set_ylabel('')\n",
    "# plt.colorbar(scatter)"
   ]
  },
  {
   "cell_type": "code",
   "execution_count": 40,
   "metadata": {
    "collapsed": true
   },
   "outputs": [],
   "source": [
    "# geoDf1.count"
   ]
  },
  {
   "cell_type": "code",
   "execution_count": 41,
   "metadata": {
    "collapsed": true
   },
   "outputs": [],
   "source": [
    "# kmeans = KMeans(n_clusters = 5, n_jobs=-1).fit(geoDf1)"
   ]
  },
  {
   "cell_type": "code",
   "execution_count": 42,
   "metadata": {
    "collapsed": true
   },
   "outputs": [],
   "source": [
    "# plt.figure(figsize=(14,14))\n",
    "# plt.xlabel(\"xx\")\n",
    "# plt.ylabel(\"yy\")\n",
    "# plt.scatter(geoDf1['transactionRevenue'], geoDf1[\"hits\"], s=1, c=[matplotlib.cm.spectral(float(i) /10) for i in\n",
    "#                                                                   kmeans.labels_])\n",
    "# plt.show()"
   ]
  },
  {
   "cell_type": "code",
   "execution_count": 43,
   "metadata": {
    "collapsed": true
   },
   "outputs": [],
   "source": [
    "# geoDf.shape"
   ]
  },
  {
   "cell_type": "code",
   "execution_count": 44,
   "metadata": {
    "collapsed": true
   },
   "outputs": [],
   "source": [
    "# plt.figure(figsize=(14,14))\n",
    "# plt.xlabel(\"xx\")\n",
    "# plt.ylabel(\"yy\")\n",
    "# plt.scatter(geoDf1['transactionRevenue'], geoDf1[\"hits\"])\n",
    "# plt.show()"
   ]
  },
  {
   "cell_type": "code",
   "execution_count": 45,
   "metadata": {},
   "outputs": [
    {
     "name": "stdout",
     "output_type": "stream",
     "text": [
      "648\n",
      "6\n",
      "222\n",
      "93\n",
      "28063\n",
      "23\n"
     ]
    }
   ],
   "source": [
    "print len(df.city.unique().tolist())\n",
    "print len(df.continent.unique().tolist())\n",
    "print len(df.country.unique().tolist())\n",
    "print len(df.metro.unique().tolist())\n",
    "print len(df.networkDomain.unique().tolist())\n",
    "print len(df.subContinent.unique().tolist())"
   ]
  },
  {
   "cell_type": "code",
   "execution_count": 46,
   "metadata": {},
   "outputs": [
    {
     "data": {
      "text/plain": [
       "dtype('float64')"
      ]
     },
     "execution_count": 46,
     "metadata": {},
     "output_type": "execute_result"
    }
   ],
   "source": [
    "gdfCountry = df.groupby(['country']).sum().reset_index()\n",
    "gdfCountry.isMobile.dtype"
   ]
  },
  {
   "cell_type": "code",
   "execution_count": 47,
   "metadata": {
    "collapsed": true
   },
   "outputs": [],
   "source": [
    "gdfCountry = gdfCountry[['country','hits', 'isMobile','pageviews','transactionRevenue','transactionRevenue_log']]"
   ]
  },
  {
   "cell_type": "code",
   "execution_count": 48,
   "metadata": {},
   "outputs": [
    {
     "data": {
      "text/html": [
       "<div>\n",
       "<style scoped>\n",
       "    .dataframe tbody tr th:only-of-type {\n",
       "        vertical-align: middle;\n",
       "    }\n",
       "\n",
       "    .dataframe tbody tr th {\n",
       "        vertical-align: top;\n",
       "    }\n",
       "\n",
       "    .dataframe thead th {\n",
       "        text-align: right;\n",
       "    }\n",
       "</style>\n",
       "<table border=\"1\" class=\"dataframe\">\n",
       "  <thead>\n",
       "    <tr style=\"text-align: right;\">\n",
       "      <th></th>\n",
       "      <th>country</th>\n",
       "      <th>hits</th>\n",
       "      <th>isMobile</th>\n",
       "      <th>pageviews</th>\n",
       "      <th>transactionRevenue</th>\n",
       "      <th>transactionRevenue_log</th>\n",
       "    </tr>\n",
       "  </thead>\n",
       "  <tbody>\n",
       "    <tr>\n",
       "      <th>0</th>\n",
       "      <td>Afghanistan</td>\n",
       "      <td>138.0</td>\n",
       "      <td>20.0</td>\n",
       "      <td>117.0</td>\n",
       "      <td>0.0</td>\n",
       "      <td>0.0</td>\n",
       "    </tr>\n",
       "    <tr>\n",
       "      <th>1</th>\n",
       "      <td>Albania</td>\n",
       "      <td>996.0</td>\n",
       "      <td>64.0</td>\n",
       "      <td>909.0</td>\n",
       "      <td>0.0</td>\n",
       "      <td>0.0</td>\n",
       "    </tr>\n",
       "    <tr>\n",
       "      <th>2</th>\n",
       "      <td>Algeria</td>\n",
       "      <td>3911.0</td>\n",
       "      <td>366.0</td>\n",
       "      <td>3487.0</td>\n",
       "      <td>0.0</td>\n",
       "      <td>0.0</td>\n",
       "    </tr>\n",
       "    <tr>\n",
       "      <th>3</th>\n",
       "      <td>American Samoa</td>\n",
       "      <td>1.0</td>\n",
       "      <td>0.0</td>\n",
       "      <td>1.0</td>\n",
       "      <td>0.0</td>\n",
       "      <td>0.0</td>\n",
       "    </tr>\n",
       "    <tr>\n",
       "      <th>4</th>\n",
       "      <td>Andorra</td>\n",
       "      <td>60.0</td>\n",
       "      <td>3.0</td>\n",
       "      <td>48.0</td>\n",
       "      <td>0.0</td>\n",
       "      <td>0.0</td>\n",
       "    </tr>\n",
       "  </tbody>\n",
       "</table>\n",
       "</div>"
      ],
      "text/plain": [
       "          country    hits  isMobile  pageviews  transactionRevenue  \\\n",
       "0     Afghanistan   138.0      20.0      117.0                 0.0   \n",
       "1         Albania   996.0      64.0      909.0                 0.0   \n",
       "2         Algeria  3911.0     366.0     3487.0                 0.0   \n",
       "3  American Samoa     1.0       0.0        1.0                 0.0   \n",
       "4         Andorra    60.0       3.0       48.0                 0.0   \n",
       "\n",
       "   transactionRevenue_log  \n",
       "0                     0.0  \n",
       "1                     0.0  \n",
       "2                     0.0  \n",
       "3                     0.0  \n",
       "4                     0.0  "
      ]
     },
     "execution_count": 48,
     "metadata": {},
     "output_type": "execute_result"
    }
   ],
   "source": [
    "gdfCountry.head()"
   ]
  },
  {
   "cell_type": "code",
   "execution_count": 49,
   "metadata": {
    "collapsed": true
   },
   "outputs": [],
   "source": [
    "### Mobile Phones Used across the globe"
   ]
  },
  {
   "cell_type": "code",
   "execution_count": 50,
   "metadata": {},
   "outputs": [
    {
     "data": {
      "application/vnd.plotly.v1+json": {
       "data": [
        {
         "colorbar": {
          "title": "Total Mobile Phone Usages"
         },
         "locationmode": "country names",
         "locations": [
          "Afghanistan",
          "Albania",
          "Algeria",
          "American Samoa",
          "Andorra",
          "Angola",
          "Anguilla",
          "Antigua & Barbuda",
          "Argentina",
          "Armenia",
          "Aruba",
          "Australia",
          "Austria",
          "Azerbaijan",
          "Bahamas",
          "Bahrain",
          "Bangladesh",
          "Barbados",
          "Belarus",
          "Belgium",
          "Belize",
          "Benin",
          "Bermuda",
          "Bhutan",
          "Bolivia",
          "Bosnia & Herzegovina",
          "Botswana",
          "Brazil",
          "British Virgin Islands",
          "Brunei",
          "Bulgaria",
          "Burkina Faso",
          "Burundi",
          "Cambodia",
          "Cameroon",
          "Canada",
          "Cape Verde",
          "Caribbean Netherlands",
          "Cayman Islands",
          "Central African Republic",
          "Chad",
          "Chile",
          "China",
          "Colombia",
          "Comoros",
          "Congo - Brazzaville",
          "Congo - Kinshasa",
          "Cook Islands",
          "Costa Rica",
          "Croatia",
          "Curaçao",
          "Cyprus",
          "Czechia",
          "Côte d’Ivoire",
          "Denmark",
          "Djibouti",
          "Dominica",
          "Dominican Republic",
          "Ecuador",
          "Egypt",
          "El Salvador",
          "Equatorial Guinea",
          "Eritrea",
          "Estonia",
          "Ethiopia",
          "Faroe Islands",
          "Fiji",
          "Finland",
          "France",
          "French Guiana",
          "French Polynesia",
          "Gabon",
          "Gambia",
          "Georgia",
          "Germany",
          "Ghana",
          "Gibraltar",
          "Greece",
          "Greenland",
          "Grenada",
          "Guadeloupe",
          "Guam",
          "Guatemala",
          "Guernsey",
          "Guinea",
          "Guinea-Bissau",
          "Guyana",
          "Haiti",
          "Honduras",
          "Hong Kong",
          "Hungary",
          "Iceland",
          "India",
          "Indonesia",
          "Iran",
          "Iraq",
          "Ireland",
          "Isle of Man",
          "Israel",
          "Italy",
          "Jamaica",
          "Japan",
          "Jersey",
          "Jordan",
          "Kazakhstan",
          "Kenya",
          "Kosovo",
          "Kuwait",
          "Kyrgyzstan",
          "Laos",
          "Latvia",
          "Lebanon",
          "Lesotho",
          "Liberia",
          "Libya",
          "Liechtenstein",
          "Lithuania",
          "Luxembourg",
          "Macau",
          "Macedonia (FYROM)",
          "Madagascar",
          "Malawi",
          "Malaysia",
          "Maldives",
          "Mali",
          "Malta",
          "Marshall Islands",
          "Martinique",
          "Mauritania",
          "Mauritius",
          "Mayotte",
          "Mexico",
          "Moldova",
          "Monaco",
          "Mongolia",
          "Montenegro",
          "Morocco",
          "Mozambique",
          "Myanmar (Burma)",
          "Namibia",
          "Nepal",
          "Netherlands",
          "New Caledonia",
          "New Zealand",
          "Nicaragua",
          "Niger",
          "Nigeria",
          "Norfolk Island",
          "Northern Mariana Islands",
          "Norway",
          "Oman",
          "Pakistan",
          "Palestine",
          "Panama",
          "Papua New Guinea",
          "Paraguay",
          "Peru",
          "Philippines",
          "Poland",
          "Portugal",
          "Puerto Rico",
          "Qatar",
          "Romania",
          "Russia",
          "Rwanda",
          "Réunion",
          "Samoa",
          "San Marino",
          "Saudi Arabia",
          "Senegal",
          "Serbia",
          "Seychelles",
          "Sierra Leone",
          "Singapore",
          "Sint Maarten",
          "Slovakia",
          "Slovenia",
          "Somalia",
          "South Africa",
          "South Korea",
          "Spain",
          "Sri Lanka",
          "St. Barthélemy",
          "St. Kitts & Nevis",
          "St. Lucia",
          "St. Martin",
          "St. Pierre & Miquelon",
          "St. Vincent & Grenadines",
          "Sudan",
          "Suriname",
          "Swaziland",
          "Sweden",
          "Switzerland",
          "Syria",
          "São Tomé & Príncipe",
          "Taiwan",
          "Tajikistan",
          "Tanzania",
          "Thailand",
          "Timor-Leste",
          "Togo",
          "Trinidad & Tobago",
          "Tunisia",
          "Turkey",
          "Turkmenistan",
          "Turks & Caicos Islands",
          "U.S. Virgin Islands",
          "Uganda",
          "Ukraine",
          "United Arab Emirates",
          "United Kingdom",
          "United States",
          "Uruguay",
          "Uzbekistan",
          "Vanuatu",
          "Venezuela",
          "Vietnam",
          "Yemen",
          "Zambia",
          "Zimbabwe",
          "Åland Islands"
         ],
         "marker": {
          "line": {
           "color": "rgb(180,180,180)",
           "width": 1
          }
         },
         "text": [
          "Afghanistan",
          "Albania",
          "Algeria",
          "American Samoa",
          "Andorra",
          "Angola",
          "Anguilla",
          "Antigua & Barbuda",
          "Argentina",
          "Armenia",
          "Aruba",
          "Australia",
          "Austria",
          "Azerbaijan",
          "Bahamas",
          "Bahrain",
          "Bangladesh",
          "Barbados",
          "Belarus",
          "Belgium",
          "Belize",
          "Benin",
          "Bermuda",
          "Bhutan",
          "Bolivia",
          "Bosnia & Herzegovina",
          "Botswana",
          "Brazil",
          "British Virgin Islands",
          "Brunei",
          "Bulgaria",
          "Burkina Faso",
          "Burundi",
          "Cambodia",
          "Cameroon",
          "Canada",
          "Cape Verde",
          "Caribbean Netherlands",
          "Cayman Islands",
          "Central African Republic",
          "Chad",
          "Chile",
          "China",
          "Colombia",
          "Comoros",
          "Congo - Brazzaville",
          "Congo - Kinshasa",
          "Cook Islands",
          "Costa Rica",
          "Croatia",
          "Curaçao",
          "Cyprus",
          "Czechia",
          "Côte d’Ivoire",
          "Denmark",
          "Djibouti",
          "Dominica",
          "Dominican Republic",
          "Ecuador",
          "Egypt",
          "El Salvador",
          "Equatorial Guinea",
          "Eritrea",
          "Estonia",
          "Ethiopia",
          "Faroe Islands",
          "Fiji",
          "Finland",
          "France",
          "French Guiana",
          "French Polynesia",
          "Gabon",
          "Gambia",
          "Georgia",
          "Germany",
          "Ghana",
          "Gibraltar",
          "Greece",
          "Greenland",
          "Grenada",
          "Guadeloupe",
          "Guam",
          "Guatemala",
          "Guernsey",
          "Guinea",
          "Guinea-Bissau",
          "Guyana",
          "Haiti",
          "Honduras",
          "Hong Kong",
          "Hungary",
          "Iceland",
          "India",
          "Indonesia",
          "Iran",
          "Iraq",
          "Ireland",
          "Isle of Man",
          "Israel",
          "Italy",
          "Jamaica",
          "Japan",
          "Jersey",
          "Jordan",
          "Kazakhstan",
          "Kenya",
          "Kosovo",
          "Kuwait",
          "Kyrgyzstan",
          "Laos",
          "Latvia",
          "Lebanon",
          "Lesotho",
          "Liberia",
          "Libya",
          "Liechtenstein",
          "Lithuania",
          "Luxembourg",
          "Macau",
          "Macedonia (FYROM)",
          "Madagascar",
          "Malawi",
          "Malaysia",
          "Maldives",
          "Mali",
          "Malta",
          "Marshall Islands",
          "Martinique",
          "Mauritania",
          "Mauritius",
          "Mayotte",
          "Mexico",
          "Moldova",
          "Monaco",
          "Mongolia",
          "Montenegro",
          "Morocco",
          "Mozambique",
          "Myanmar (Burma)",
          "Namibia",
          "Nepal",
          "Netherlands",
          "New Caledonia",
          "New Zealand",
          "Nicaragua",
          "Niger",
          "Nigeria",
          "Norfolk Island",
          "Northern Mariana Islands",
          "Norway",
          "Oman",
          "Pakistan",
          "Palestine",
          "Panama",
          "Papua New Guinea",
          "Paraguay",
          "Peru",
          "Philippines",
          "Poland",
          "Portugal",
          "Puerto Rico",
          "Qatar",
          "Romania",
          "Russia",
          "Rwanda",
          "Réunion",
          "Samoa",
          "San Marino",
          "Saudi Arabia",
          "Senegal",
          "Serbia",
          "Seychelles",
          "Sierra Leone",
          "Singapore",
          "Sint Maarten",
          "Slovakia",
          "Slovenia",
          "Somalia",
          "South Africa",
          "South Korea",
          "Spain",
          "Sri Lanka",
          "St. Barthélemy",
          "St. Kitts & Nevis",
          "St. Lucia",
          "St. Martin",
          "St. Pierre & Miquelon",
          "St. Vincent & Grenadines",
          "Sudan",
          "Suriname",
          "Swaziland",
          "Sweden",
          "Switzerland",
          "Syria",
          "São Tomé & Príncipe",
          "Taiwan",
          "Tajikistan",
          "Tanzania",
          "Thailand",
          "Timor-Leste",
          "Togo",
          "Trinidad & Tobago",
          "Tunisia",
          "Turkey",
          "Turkmenistan",
          "Turks & Caicos Islands",
          "U.S. Virgin Islands",
          "Uganda",
          "Ukraine",
          "United Arab Emirates",
          "United Kingdom",
          "United States",
          "Uruguay",
          "Uzbekistan",
          "Vanuatu",
          "Venezuela",
          "Vietnam",
          "Yemen",
          "Zambia",
          "Zimbabwe",
          "Åland Islands"
         ],
         "type": "choropleth",
         "uid": "2c325221-d6ff-11e8-bd80-08d40cd82bf7",
         "z": [
          20,
          64,
          366,
          0,
          3,
          16,
          1,
          4,
          768,
          41,
          22,
          4376,
          1054,
          65,
          12,
          74,
          918,
          19,
          131,
          1309,
          13,
          28,
          10,
          5,
          45,
          93,
          4,
          2415,
          2,
          33,
          233,
          34,
          11,
          210,
          119,
          7769,
          8,
          3,
          4,
          3,
          20,
          421,
          855,
          779,
          0,
          2,
          90,
          0,
          141,
          281,
          15,
          105,
          973,
          268,
          986,
          6,
          1,
          210,
          188,
          525,
          83,
          2,
          0,
          194,
          75,
          7,
          13,
          246,
          4138,
          3,
          5,
          6,
          6,
          122,
          7145,
          154,
          2,
          736,
          2,
          7,
          9,
          14,
          147,
          8,
          26,
          2,
          7,
          17,
          54,
          1278,
          650,
          61,
          17584,
          2317,
          26,
          334,
          1502,
          3,
          811,
          3245,
          61,
          4986,
          19,
          125,
          145,
          366,
          58,
          211,
          19,
          101,
          166,
          70,
          3,
          5,
          32,
          2,
          187,
          33,
          40,
          66,
          8,
          6,
          1611,
          9,
          24,
          18,
          1,
          16,
          17,
          28,
          5,
          2574,
          60,
          9,
          9,
          21,
          638,
          33,
          138,
          12,
          70,
          3431,
          11,
          649,
          24,
          7,
          798,
          1,
          5,
          728,
          109,
          1143,
          51,
          117,
          3,
          44,
          573,
          1421,
          1194,
          519,
          335,
          152,
          1287,
          1432,
          24,
          32,
          1,
          0,
          1106,
          54,
          216,
          1,
          7,
          1776,
          7,
          596,
          190,
          20,
          721,
          1073,
          2063,
          561,
          1,
          2,
          7,
          1,
          0,
          1,
          92,
          8,
          2,
          1419,
          1226,
          9,
          1,
          2906,
          8,
          154,
          2124,
          5,
          12,
          72,
          193,
          1601,
          2,
          4,
          10,
          74,
          548,
          657,
          14549,
          109395,
          107,
          21,
          2,
          278,
          1436,
          54,
          23,
          11,
          0
         ]
        }
       ],
       "layout": {
        "geo": {
         "projection": {
          "type": "mercator"
         },
         "showframe": false
        },
        "title": "Mobile Phones used to Access Google across the World"
       }
      },
      "text/html": [
       "<div id=\"ea7f4e6e-ae64-4ae4-a876-621b8aebf2ba\" style=\"height: 525px; width: 100%;\" class=\"plotly-graph-div\"></div><script type=\"text/javascript\">require([\"plotly\"], function(Plotly) { window.PLOTLYENV=window.PLOTLYENV || {};window.PLOTLYENV.BASE_URL=\"https://plot.ly\";Plotly.newPlot(\"ea7f4e6e-ae64-4ae4-a876-621b8aebf2ba\", [{\"uid\": \"2c325221-d6ff-11e8-bd80-08d40cd82bf7\", \"text\": [\"Afghanistan\", \"Albania\", \"Algeria\", \"American Samoa\", \"Andorra\", \"Angola\", \"Anguilla\", \"Antigua & Barbuda\", \"Argentina\", \"Armenia\", \"Aruba\", \"Australia\", \"Austria\", \"Azerbaijan\", \"Bahamas\", \"Bahrain\", \"Bangladesh\", \"Barbados\", \"Belarus\", \"Belgium\", \"Belize\", \"Benin\", \"Bermuda\", \"Bhutan\", \"Bolivia\", \"Bosnia & Herzegovina\", \"Botswana\", \"Brazil\", \"British Virgin Islands\", \"Brunei\", \"Bulgaria\", \"Burkina Faso\", \"Burundi\", \"Cambodia\", \"Cameroon\", \"Canada\", \"Cape Verde\", \"Caribbean Netherlands\", \"Cayman Islands\", \"Central African Republic\", \"Chad\", \"Chile\", \"China\", \"Colombia\", \"Comoros\", \"Congo - Brazzaville\", \"Congo - Kinshasa\", \"Cook Islands\", \"Costa Rica\", \"Croatia\", \"Cura\\u00e7ao\", \"Cyprus\", \"Czechia\", \"C\\u00f4te d\\u2019Ivoire\", \"Denmark\", \"Djibouti\", \"Dominica\", \"Dominican Republic\", \"Ecuador\", \"Egypt\", \"El Salvador\", \"Equatorial Guinea\", \"Eritrea\", \"Estonia\", \"Ethiopia\", \"Faroe Islands\", \"Fiji\", \"Finland\", \"France\", \"French Guiana\", \"French Polynesia\", \"Gabon\", \"Gambia\", \"Georgia\", \"Germany\", \"Ghana\", \"Gibraltar\", \"Greece\", \"Greenland\", \"Grenada\", \"Guadeloupe\", \"Guam\", \"Guatemala\", \"Guernsey\", \"Guinea\", \"Guinea-Bissau\", \"Guyana\", \"Haiti\", \"Honduras\", \"Hong Kong\", \"Hungary\", \"Iceland\", \"India\", \"Indonesia\", \"Iran\", \"Iraq\", \"Ireland\", \"Isle of Man\", \"Israel\", \"Italy\", \"Jamaica\", \"Japan\", \"Jersey\", \"Jordan\", \"Kazakhstan\", \"Kenya\", \"Kosovo\", \"Kuwait\", \"Kyrgyzstan\", \"Laos\", \"Latvia\", \"Lebanon\", \"Lesotho\", \"Liberia\", \"Libya\", \"Liechtenstein\", \"Lithuania\", \"Luxembourg\", \"Macau\", \"Macedonia (FYROM)\", \"Madagascar\", \"Malawi\", \"Malaysia\", \"Maldives\", \"Mali\", \"Malta\", \"Marshall Islands\", \"Martinique\", \"Mauritania\", \"Mauritius\", \"Mayotte\", \"Mexico\", \"Moldova\", \"Monaco\", \"Mongolia\", \"Montenegro\", \"Morocco\", \"Mozambique\", \"Myanmar (Burma)\", \"Namibia\", \"Nepal\", \"Netherlands\", \"New Caledonia\", \"New Zealand\", \"Nicaragua\", \"Niger\", \"Nigeria\", \"Norfolk Island\", \"Northern Mariana Islands\", \"Norway\", \"Oman\", \"Pakistan\", \"Palestine\", \"Panama\", \"Papua New Guinea\", \"Paraguay\", \"Peru\", \"Philippines\", \"Poland\", \"Portugal\", \"Puerto Rico\", \"Qatar\", \"Romania\", \"Russia\", \"Rwanda\", \"R\\u00e9union\", \"Samoa\", \"San Marino\", \"Saudi Arabia\", \"Senegal\", \"Serbia\", \"Seychelles\", \"Sierra Leone\", \"Singapore\", \"Sint Maarten\", \"Slovakia\", \"Slovenia\", \"Somalia\", \"South Africa\", \"South Korea\", \"Spain\", \"Sri Lanka\", \"St. Barth\\u00e9lemy\", \"St. Kitts & Nevis\", \"St. Lucia\", \"St. Martin\", \"St. Pierre & Miquelon\", \"St. Vincent & Grenadines\", \"Sudan\", \"Suriname\", \"Swaziland\", \"Sweden\", \"Switzerland\", \"Syria\", \"S\\u00e3o Tom\\u00e9 & Pr\\u00edncipe\", \"Taiwan\", \"Tajikistan\", \"Tanzania\", \"Thailand\", \"Timor-Leste\", \"Togo\", \"Trinidad & Tobago\", \"Tunisia\", \"Turkey\", \"Turkmenistan\", \"Turks & Caicos Islands\", \"U.S. Virgin Islands\", \"Uganda\", \"Ukraine\", \"United Arab Emirates\", \"United Kingdom\", \"United States\", \"Uruguay\", \"Uzbekistan\", \"Vanuatu\", \"Venezuela\", \"Vietnam\", \"Yemen\", \"Zambia\", \"Zimbabwe\", \"\\u00c5land Islands\"], \"locations\": [\"Afghanistan\", \"Albania\", \"Algeria\", \"American Samoa\", \"Andorra\", \"Angola\", \"Anguilla\", \"Antigua & Barbuda\", \"Argentina\", \"Armenia\", \"Aruba\", \"Australia\", \"Austria\", \"Azerbaijan\", \"Bahamas\", \"Bahrain\", \"Bangladesh\", \"Barbados\", \"Belarus\", \"Belgium\", \"Belize\", \"Benin\", \"Bermuda\", \"Bhutan\", \"Bolivia\", \"Bosnia & Herzegovina\", \"Botswana\", \"Brazil\", \"British Virgin Islands\", \"Brunei\", \"Bulgaria\", \"Burkina Faso\", \"Burundi\", \"Cambodia\", \"Cameroon\", \"Canada\", \"Cape Verde\", \"Caribbean Netherlands\", \"Cayman Islands\", \"Central African Republic\", \"Chad\", \"Chile\", \"China\", \"Colombia\", \"Comoros\", \"Congo - Brazzaville\", \"Congo - Kinshasa\", \"Cook Islands\", \"Costa Rica\", \"Croatia\", \"Cura\\u00e7ao\", \"Cyprus\", \"Czechia\", \"C\\u00f4te d\\u2019Ivoire\", \"Denmark\", \"Djibouti\", \"Dominica\", \"Dominican Republic\", \"Ecuador\", \"Egypt\", \"El Salvador\", \"Equatorial Guinea\", \"Eritrea\", \"Estonia\", \"Ethiopia\", \"Faroe Islands\", \"Fiji\", \"Finland\", \"France\", \"French Guiana\", \"French Polynesia\", \"Gabon\", \"Gambia\", \"Georgia\", \"Germany\", \"Ghana\", \"Gibraltar\", \"Greece\", \"Greenland\", \"Grenada\", \"Guadeloupe\", \"Guam\", \"Guatemala\", \"Guernsey\", \"Guinea\", \"Guinea-Bissau\", \"Guyana\", \"Haiti\", \"Honduras\", \"Hong Kong\", \"Hungary\", \"Iceland\", \"India\", \"Indonesia\", \"Iran\", \"Iraq\", \"Ireland\", \"Isle of Man\", \"Israel\", \"Italy\", \"Jamaica\", \"Japan\", \"Jersey\", \"Jordan\", \"Kazakhstan\", \"Kenya\", \"Kosovo\", \"Kuwait\", \"Kyrgyzstan\", \"Laos\", \"Latvia\", \"Lebanon\", \"Lesotho\", \"Liberia\", \"Libya\", \"Liechtenstein\", \"Lithuania\", \"Luxembourg\", \"Macau\", \"Macedonia (FYROM)\", \"Madagascar\", \"Malawi\", \"Malaysia\", \"Maldives\", \"Mali\", \"Malta\", \"Marshall Islands\", \"Martinique\", \"Mauritania\", \"Mauritius\", \"Mayotte\", \"Mexico\", \"Moldova\", \"Monaco\", \"Mongolia\", \"Montenegro\", \"Morocco\", \"Mozambique\", \"Myanmar (Burma)\", \"Namibia\", \"Nepal\", \"Netherlands\", \"New Caledonia\", \"New Zealand\", \"Nicaragua\", \"Niger\", \"Nigeria\", \"Norfolk Island\", \"Northern Mariana Islands\", \"Norway\", \"Oman\", \"Pakistan\", \"Palestine\", \"Panama\", \"Papua New Guinea\", \"Paraguay\", \"Peru\", \"Philippines\", \"Poland\", \"Portugal\", \"Puerto Rico\", \"Qatar\", \"Romania\", \"Russia\", \"Rwanda\", \"R\\u00e9union\", \"Samoa\", \"San Marino\", \"Saudi Arabia\", \"Senegal\", \"Serbia\", \"Seychelles\", \"Sierra Leone\", \"Singapore\", \"Sint Maarten\", \"Slovakia\", \"Slovenia\", \"Somalia\", \"South Africa\", \"South Korea\", \"Spain\", \"Sri Lanka\", \"St. Barth\\u00e9lemy\", \"St. Kitts & Nevis\", \"St. Lucia\", \"St. Martin\", \"St. Pierre & Miquelon\", \"St. Vincent & Grenadines\", \"Sudan\", \"Suriname\", \"Swaziland\", \"Sweden\", \"Switzerland\", \"Syria\", \"S\\u00e3o Tom\\u00e9 & Pr\\u00edncipe\", \"Taiwan\", \"Tajikistan\", \"Tanzania\", \"Thailand\", \"Timor-Leste\", \"Togo\", \"Trinidad & Tobago\", \"Tunisia\", \"Turkey\", \"Turkmenistan\", \"Turks & Caicos Islands\", \"U.S. Virgin Islands\", \"Uganda\", \"Ukraine\", \"United Arab Emirates\", \"United Kingdom\", \"United States\", \"Uruguay\", \"Uzbekistan\", \"Vanuatu\", \"Venezuela\", \"Vietnam\", \"Yemen\", \"Zambia\", \"Zimbabwe\", \"\\u00c5land Islands\"], \"colorbar\": {\"title\": \"Total Mobile Phone Usages\"}, \"marker\": {\"line\": {\"color\": \"rgb(180,180,180)\", \"width\": 1}}, \"locationmode\": \"country names\", \"z\": [20.0, 64.0, 366.0, 0.0, 3.0, 16.0, 1.0, 4.0, 768.0, 41.0, 22.0, 4376.0, 1054.0, 65.0, 12.0, 74.0, 918.0, 19.0, 131.0, 1309.0, 13.0, 28.0, 10.0, 5.0, 45.0, 93.0, 4.0, 2415.0, 2.0, 33.0, 233.0, 34.0, 11.0, 210.0, 119.0, 7769.0, 8.0, 3.0, 4.0, 3.0, 20.0, 421.0, 855.0, 779.0, 0.0, 2.0, 90.0, 0.0, 141.0, 281.0, 15.0, 105.0, 973.0, 268.0, 986.0, 6.0, 1.0, 210.0, 188.0, 525.0, 83.0, 2.0, 0.0, 194.0, 75.0, 7.0, 13.0, 246.0, 4138.0, 3.0, 5.0, 6.0, 6.0, 122.0, 7145.0, 154.0, 2.0, 736.0, 2.0, 7.0, 9.0, 14.0, 147.0, 8.0, 26.0, 2.0, 7.0, 17.0, 54.0, 1278.0, 650.0, 61.0, 17584.0, 2317.0, 26.0, 334.0, 1502.0, 3.0, 811.0, 3245.0, 61.0, 4986.0, 19.0, 125.0, 145.0, 366.0, 58.0, 211.0, 19.0, 101.0, 166.0, 70.0, 3.0, 5.0, 32.0, 2.0, 187.0, 33.0, 40.0, 66.0, 8.0, 6.0, 1611.0, 9.0, 24.0, 18.0, 1.0, 16.0, 17.0, 28.0, 5.0, 2574.0, 60.0, 9.0, 9.0, 21.0, 638.0, 33.0, 138.0, 12.0, 70.0, 3431.0, 11.0, 649.0, 24.0, 7.0, 798.0, 1.0, 5.0, 728.0, 109.0, 1143.0, 51.0, 117.0, 3.0, 44.0, 573.0, 1421.0, 1194.0, 519.0, 335.0, 152.0, 1287.0, 1432.0, 24.0, 32.0, 1.0, 0.0, 1106.0, 54.0, 216.0, 1.0, 7.0, 1776.0, 7.0, 596.0, 190.0, 20.0, 721.0, 1073.0, 2063.0, 561.0, 1.0, 2.0, 7.0, 1.0, 0.0, 1.0, 92.0, 8.0, 2.0, 1419.0, 1226.0, 9.0, 1.0, 2906.0, 8.0, 154.0, 2124.0, 5.0, 12.0, 72.0, 193.0, 1601.0, 2.0, 4.0, 10.0, 74.0, 548.0, 657.0, 14549.0, 109395.0, 107.0, 21.0, 2.0, 278.0, 1436.0, 54.0, 23.0, 11.0, 0.0], \"type\": \"choropleth\"}], {\"geo\": {\"projection\": {\"type\": \"mercator\"}, \"showframe\": false}, \"title\": \"Mobile Phones used to Access Google across the World\"}, {\"linkText\": \"Export to plot.ly\", \"showLink\": true})});</script>"
      ],
      "text/vnd.plotly.v1+html": [
       "<div id=\"ea7f4e6e-ae64-4ae4-a876-621b8aebf2ba\" style=\"height: 525px; width: 100%;\" class=\"plotly-graph-div\"></div><script type=\"text/javascript\">require([\"plotly\"], function(Plotly) { window.PLOTLYENV=window.PLOTLYENV || {};window.PLOTLYENV.BASE_URL=\"https://plot.ly\";Plotly.newPlot(\"ea7f4e6e-ae64-4ae4-a876-621b8aebf2ba\", [{\"uid\": \"2c325221-d6ff-11e8-bd80-08d40cd82bf7\", \"text\": [\"Afghanistan\", \"Albania\", \"Algeria\", \"American Samoa\", \"Andorra\", \"Angola\", \"Anguilla\", \"Antigua & Barbuda\", \"Argentina\", \"Armenia\", \"Aruba\", \"Australia\", \"Austria\", \"Azerbaijan\", \"Bahamas\", \"Bahrain\", \"Bangladesh\", \"Barbados\", \"Belarus\", \"Belgium\", \"Belize\", \"Benin\", \"Bermuda\", \"Bhutan\", \"Bolivia\", \"Bosnia & Herzegovina\", \"Botswana\", \"Brazil\", \"British Virgin Islands\", \"Brunei\", \"Bulgaria\", \"Burkina Faso\", \"Burundi\", \"Cambodia\", \"Cameroon\", \"Canada\", \"Cape Verde\", \"Caribbean Netherlands\", \"Cayman Islands\", \"Central African Republic\", \"Chad\", \"Chile\", \"China\", \"Colombia\", \"Comoros\", \"Congo - Brazzaville\", \"Congo - Kinshasa\", \"Cook Islands\", \"Costa Rica\", \"Croatia\", \"Cura\\u00e7ao\", \"Cyprus\", \"Czechia\", \"C\\u00f4te d\\u2019Ivoire\", \"Denmark\", \"Djibouti\", \"Dominica\", \"Dominican Republic\", \"Ecuador\", \"Egypt\", \"El Salvador\", \"Equatorial Guinea\", \"Eritrea\", \"Estonia\", \"Ethiopia\", \"Faroe Islands\", \"Fiji\", \"Finland\", \"France\", \"French Guiana\", \"French Polynesia\", \"Gabon\", \"Gambia\", \"Georgia\", \"Germany\", \"Ghana\", \"Gibraltar\", \"Greece\", \"Greenland\", \"Grenada\", \"Guadeloupe\", \"Guam\", \"Guatemala\", \"Guernsey\", \"Guinea\", \"Guinea-Bissau\", \"Guyana\", \"Haiti\", \"Honduras\", \"Hong Kong\", \"Hungary\", \"Iceland\", \"India\", \"Indonesia\", \"Iran\", \"Iraq\", \"Ireland\", \"Isle of Man\", \"Israel\", \"Italy\", \"Jamaica\", \"Japan\", \"Jersey\", \"Jordan\", \"Kazakhstan\", \"Kenya\", \"Kosovo\", \"Kuwait\", \"Kyrgyzstan\", \"Laos\", \"Latvia\", \"Lebanon\", \"Lesotho\", \"Liberia\", \"Libya\", \"Liechtenstein\", \"Lithuania\", \"Luxembourg\", \"Macau\", \"Macedonia (FYROM)\", \"Madagascar\", \"Malawi\", \"Malaysia\", \"Maldives\", \"Mali\", \"Malta\", \"Marshall Islands\", \"Martinique\", \"Mauritania\", \"Mauritius\", \"Mayotte\", \"Mexico\", \"Moldova\", \"Monaco\", \"Mongolia\", \"Montenegro\", \"Morocco\", \"Mozambique\", \"Myanmar (Burma)\", \"Namibia\", \"Nepal\", \"Netherlands\", \"New Caledonia\", \"New Zealand\", \"Nicaragua\", \"Niger\", \"Nigeria\", \"Norfolk Island\", \"Northern Mariana Islands\", \"Norway\", \"Oman\", \"Pakistan\", \"Palestine\", \"Panama\", \"Papua New Guinea\", \"Paraguay\", \"Peru\", \"Philippines\", \"Poland\", \"Portugal\", \"Puerto Rico\", \"Qatar\", \"Romania\", \"Russia\", \"Rwanda\", \"R\\u00e9union\", \"Samoa\", \"San Marino\", \"Saudi Arabia\", \"Senegal\", \"Serbia\", \"Seychelles\", \"Sierra Leone\", \"Singapore\", \"Sint Maarten\", \"Slovakia\", \"Slovenia\", \"Somalia\", \"South Africa\", \"South Korea\", \"Spain\", \"Sri Lanka\", \"St. Barth\\u00e9lemy\", \"St. Kitts & Nevis\", \"St. Lucia\", \"St. Martin\", \"St. Pierre & Miquelon\", \"St. Vincent & Grenadines\", \"Sudan\", \"Suriname\", \"Swaziland\", \"Sweden\", \"Switzerland\", \"Syria\", \"S\\u00e3o Tom\\u00e9 & Pr\\u00edncipe\", \"Taiwan\", \"Tajikistan\", \"Tanzania\", \"Thailand\", \"Timor-Leste\", \"Togo\", \"Trinidad & Tobago\", \"Tunisia\", \"Turkey\", \"Turkmenistan\", \"Turks & Caicos Islands\", \"U.S. Virgin Islands\", \"Uganda\", \"Ukraine\", \"United Arab Emirates\", \"United Kingdom\", \"United States\", \"Uruguay\", \"Uzbekistan\", \"Vanuatu\", \"Venezuela\", \"Vietnam\", \"Yemen\", \"Zambia\", \"Zimbabwe\", \"\\u00c5land Islands\"], \"locations\": [\"Afghanistan\", \"Albania\", \"Algeria\", \"American Samoa\", \"Andorra\", \"Angola\", \"Anguilla\", \"Antigua & Barbuda\", \"Argentina\", \"Armenia\", \"Aruba\", \"Australia\", \"Austria\", \"Azerbaijan\", \"Bahamas\", \"Bahrain\", \"Bangladesh\", \"Barbados\", \"Belarus\", \"Belgium\", \"Belize\", \"Benin\", \"Bermuda\", \"Bhutan\", \"Bolivia\", \"Bosnia & Herzegovina\", \"Botswana\", \"Brazil\", \"British Virgin Islands\", \"Brunei\", \"Bulgaria\", \"Burkina Faso\", \"Burundi\", \"Cambodia\", \"Cameroon\", \"Canada\", \"Cape Verde\", \"Caribbean Netherlands\", \"Cayman Islands\", \"Central African Republic\", \"Chad\", \"Chile\", \"China\", \"Colombia\", \"Comoros\", \"Congo - Brazzaville\", \"Congo - Kinshasa\", \"Cook Islands\", \"Costa Rica\", \"Croatia\", \"Cura\\u00e7ao\", \"Cyprus\", \"Czechia\", \"C\\u00f4te d\\u2019Ivoire\", \"Denmark\", \"Djibouti\", \"Dominica\", \"Dominican Republic\", \"Ecuador\", \"Egypt\", \"El Salvador\", \"Equatorial Guinea\", \"Eritrea\", \"Estonia\", \"Ethiopia\", \"Faroe Islands\", \"Fiji\", \"Finland\", \"France\", \"French Guiana\", \"French Polynesia\", \"Gabon\", \"Gambia\", \"Georgia\", \"Germany\", \"Ghana\", \"Gibraltar\", \"Greece\", \"Greenland\", \"Grenada\", \"Guadeloupe\", \"Guam\", \"Guatemala\", \"Guernsey\", \"Guinea\", \"Guinea-Bissau\", \"Guyana\", \"Haiti\", \"Honduras\", \"Hong Kong\", \"Hungary\", \"Iceland\", \"India\", \"Indonesia\", \"Iran\", \"Iraq\", \"Ireland\", \"Isle of Man\", \"Israel\", \"Italy\", \"Jamaica\", \"Japan\", \"Jersey\", \"Jordan\", \"Kazakhstan\", \"Kenya\", \"Kosovo\", \"Kuwait\", \"Kyrgyzstan\", \"Laos\", \"Latvia\", \"Lebanon\", \"Lesotho\", \"Liberia\", \"Libya\", \"Liechtenstein\", \"Lithuania\", \"Luxembourg\", \"Macau\", \"Macedonia (FYROM)\", \"Madagascar\", \"Malawi\", \"Malaysia\", \"Maldives\", \"Mali\", \"Malta\", \"Marshall Islands\", \"Martinique\", \"Mauritania\", \"Mauritius\", \"Mayotte\", \"Mexico\", \"Moldova\", \"Monaco\", \"Mongolia\", \"Montenegro\", \"Morocco\", \"Mozambique\", \"Myanmar (Burma)\", \"Namibia\", \"Nepal\", \"Netherlands\", \"New Caledonia\", \"New Zealand\", \"Nicaragua\", \"Niger\", \"Nigeria\", \"Norfolk Island\", \"Northern Mariana Islands\", \"Norway\", \"Oman\", \"Pakistan\", \"Palestine\", \"Panama\", \"Papua New Guinea\", \"Paraguay\", \"Peru\", \"Philippines\", \"Poland\", \"Portugal\", \"Puerto Rico\", \"Qatar\", \"Romania\", \"Russia\", \"Rwanda\", \"R\\u00e9union\", \"Samoa\", \"San Marino\", \"Saudi Arabia\", \"Senegal\", \"Serbia\", \"Seychelles\", \"Sierra Leone\", \"Singapore\", \"Sint Maarten\", \"Slovakia\", \"Slovenia\", \"Somalia\", \"South Africa\", \"South Korea\", \"Spain\", \"Sri Lanka\", \"St. Barth\\u00e9lemy\", \"St. Kitts & Nevis\", \"St. Lucia\", \"St. Martin\", \"St. Pierre & Miquelon\", \"St. Vincent & Grenadines\", \"Sudan\", \"Suriname\", \"Swaziland\", \"Sweden\", \"Switzerland\", \"Syria\", \"S\\u00e3o Tom\\u00e9 & Pr\\u00edncipe\", \"Taiwan\", \"Tajikistan\", \"Tanzania\", \"Thailand\", \"Timor-Leste\", \"Togo\", \"Trinidad & Tobago\", \"Tunisia\", \"Turkey\", \"Turkmenistan\", \"Turks & Caicos Islands\", \"U.S. Virgin Islands\", \"Uganda\", \"Ukraine\", \"United Arab Emirates\", \"United Kingdom\", \"United States\", \"Uruguay\", \"Uzbekistan\", \"Vanuatu\", \"Venezuela\", \"Vietnam\", \"Yemen\", \"Zambia\", \"Zimbabwe\", \"\\u00c5land Islands\"], \"colorbar\": {\"title\": \"Total Mobile Phone Usages\"}, \"marker\": {\"line\": {\"color\": \"rgb(180,180,180)\", \"width\": 1}}, \"locationmode\": \"country names\", \"z\": [20.0, 64.0, 366.0, 0.0, 3.0, 16.0, 1.0, 4.0, 768.0, 41.0, 22.0, 4376.0, 1054.0, 65.0, 12.0, 74.0, 918.0, 19.0, 131.0, 1309.0, 13.0, 28.0, 10.0, 5.0, 45.0, 93.0, 4.0, 2415.0, 2.0, 33.0, 233.0, 34.0, 11.0, 210.0, 119.0, 7769.0, 8.0, 3.0, 4.0, 3.0, 20.0, 421.0, 855.0, 779.0, 0.0, 2.0, 90.0, 0.0, 141.0, 281.0, 15.0, 105.0, 973.0, 268.0, 986.0, 6.0, 1.0, 210.0, 188.0, 525.0, 83.0, 2.0, 0.0, 194.0, 75.0, 7.0, 13.0, 246.0, 4138.0, 3.0, 5.0, 6.0, 6.0, 122.0, 7145.0, 154.0, 2.0, 736.0, 2.0, 7.0, 9.0, 14.0, 147.0, 8.0, 26.0, 2.0, 7.0, 17.0, 54.0, 1278.0, 650.0, 61.0, 17584.0, 2317.0, 26.0, 334.0, 1502.0, 3.0, 811.0, 3245.0, 61.0, 4986.0, 19.0, 125.0, 145.0, 366.0, 58.0, 211.0, 19.0, 101.0, 166.0, 70.0, 3.0, 5.0, 32.0, 2.0, 187.0, 33.0, 40.0, 66.0, 8.0, 6.0, 1611.0, 9.0, 24.0, 18.0, 1.0, 16.0, 17.0, 28.0, 5.0, 2574.0, 60.0, 9.0, 9.0, 21.0, 638.0, 33.0, 138.0, 12.0, 70.0, 3431.0, 11.0, 649.0, 24.0, 7.0, 798.0, 1.0, 5.0, 728.0, 109.0, 1143.0, 51.0, 117.0, 3.0, 44.0, 573.0, 1421.0, 1194.0, 519.0, 335.0, 152.0, 1287.0, 1432.0, 24.0, 32.0, 1.0, 0.0, 1106.0, 54.0, 216.0, 1.0, 7.0, 1776.0, 7.0, 596.0, 190.0, 20.0, 721.0, 1073.0, 2063.0, 561.0, 1.0, 2.0, 7.0, 1.0, 0.0, 1.0, 92.0, 8.0, 2.0, 1419.0, 1226.0, 9.0, 1.0, 2906.0, 8.0, 154.0, 2124.0, 5.0, 12.0, 72.0, 193.0, 1601.0, 2.0, 4.0, 10.0, 74.0, 548.0, 657.0, 14549.0, 109395.0, 107.0, 21.0, 2.0, 278.0, 1436.0, 54.0, 23.0, 11.0, 0.0], \"type\": \"choropleth\"}], {\"geo\": {\"projection\": {\"type\": \"mercator\"}, \"showframe\": false}, \"title\": \"Mobile Phones used to Access Google across the World\"}, {\"linkText\": \"Export to plot.ly\", \"showLink\": true})});</script>"
      ]
     },
     "metadata": {},
     "output_type": "display_data"
    }
   ],
   "source": [
    "data = dict(type = 'choropleth', \n",
    "           locations = gdfCountry['country'],\n",
    "           locationmode = 'country names',\n",
    "           z = gdfCountry['isMobile'], \n",
    "           text = gdfCountry['country'],\n",
    "           #autocolorscale = False,\n",
    "           marker = dict(\n",
    "            line = dict (\n",
    "                color = 'rgb(180,180,180)',\n",
    "                width = 1\n",
    "            ) ),\n",
    "           colorbar = {'title':'Total Mobile Phone Usages'})\n",
    "layout = dict(title = 'Mobile Phones used to Access Google across the World', \n",
    "             geo = dict(showframe = False, \n",
    "                       projection = {'type': 'mercator'}))\n",
    "choromap3 = go.Figure(data = [data], layout=layout)\n",
    "iplot(choromap3)"
   ]
  },
  {
   "cell_type": "code",
   "execution_count": 51,
   "metadata": {},
   "outputs": [
    {
     "data": {
      "application/vnd.plotly.v1+json": {
       "data": [
        {
         "colorbar": {
          "title": "Page Hits"
         },
         "locationmode": "country names",
         "locations": [
          "Afghanistan",
          "Albania",
          "Algeria",
          "American Samoa",
          "Andorra",
          "Angola",
          "Anguilla",
          "Antigua & Barbuda",
          "Argentina",
          "Armenia",
          "Aruba",
          "Australia",
          "Austria",
          "Azerbaijan",
          "Bahamas",
          "Bahrain",
          "Bangladesh",
          "Barbados",
          "Belarus",
          "Belgium",
          "Belize",
          "Benin",
          "Bermuda",
          "Bhutan",
          "Bolivia",
          "Bosnia & Herzegovina",
          "Botswana",
          "Brazil",
          "British Virgin Islands",
          "Brunei",
          "Bulgaria",
          "Burkina Faso",
          "Burundi",
          "Cambodia",
          "Cameroon",
          "Canada",
          "Cape Verde",
          "Caribbean Netherlands",
          "Cayman Islands",
          "Central African Republic",
          "Chad",
          "Chile",
          "China",
          "Colombia",
          "Comoros",
          "Congo - Brazzaville",
          "Congo - Kinshasa",
          "Cook Islands",
          "Costa Rica",
          "Croatia",
          "Curaçao",
          "Cyprus",
          "Czechia",
          "Côte d’Ivoire",
          "Denmark",
          "Djibouti",
          "Dominica",
          "Dominican Republic",
          "Ecuador",
          "Egypt",
          "El Salvador",
          "Equatorial Guinea",
          "Eritrea",
          "Estonia",
          "Ethiopia",
          "Faroe Islands",
          "Fiji",
          "Finland",
          "France",
          "French Guiana",
          "French Polynesia",
          "Gabon",
          "Gambia",
          "Georgia",
          "Germany",
          "Ghana",
          "Gibraltar",
          "Greece",
          "Greenland",
          "Grenada",
          "Guadeloupe",
          "Guam",
          "Guatemala",
          "Guernsey",
          "Guinea",
          "Guinea-Bissau",
          "Guyana",
          "Haiti",
          "Honduras",
          "Hong Kong",
          "Hungary",
          "Iceland",
          "India",
          "Indonesia",
          "Iran",
          "Iraq",
          "Ireland",
          "Isle of Man",
          "Israel",
          "Italy",
          "Jamaica",
          "Japan",
          "Jersey",
          "Jordan",
          "Kazakhstan",
          "Kenya",
          "Kosovo",
          "Kuwait",
          "Kyrgyzstan",
          "Laos",
          "Latvia",
          "Lebanon",
          "Lesotho",
          "Liberia",
          "Libya",
          "Liechtenstein",
          "Lithuania",
          "Luxembourg",
          "Macau",
          "Macedonia (FYROM)",
          "Madagascar",
          "Malawi",
          "Malaysia",
          "Maldives",
          "Mali",
          "Malta",
          "Marshall Islands",
          "Martinique",
          "Mauritania",
          "Mauritius",
          "Mayotte",
          "Mexico",
          "Moldova",
          "Monaco",
          "Mongolia",
          "Montenegro",
          "Morocco",
          "Mozambique",
          "Myanmar (Burma)",
          "Namibia",
          "Nepal",
          "Netherlands",
          "New Caledonia",
          "New Zealand",
          "Nicaragua",
          "Niger",
          "Nigeria",
          "Norfolk Island",
          "Northern Mariana Islands",
          "Norway",
          "Oman",
          "Pakistan",
          "Palestine",
          "Panama",
          "Papua New Guinea",
          "Paraguay",
          "Peru",
          "Philippines",
          "Poland",
          "Portugal",
          "Puerto Rico",
          "Qatar",
          "Romania",
          "Russia",
          "Rwanda",
          "Réunion",
          "Samoa",
          "San Marino",
          "Saudi Arabia",
          "Senegal",
          "Serbia",
          "Seychelles",
          "Sierra Leone",
          "Singapore",
          "Sint Maarten",
          "Slovakia",
          "Slovenia",
          "Somalia",
          "South Africa",
          "South Korea",
          "Spain",
          "Sri Lanka",
          "St. Barthélemy",
          "St. Kitts & Nevis",
          "St. Lucia",
          "St. Martin",
          "St. Pierre & Miquelon",
          "St. Vincent & Grenadines",
          "Sudan",
          "Suriname",
          "Swaziland",
          "Sweden",
          "Switzerland",
          "Syria",
          "São Tomé & Príncipe",
          "Taiwan",
          "Tajikistan",
          "Tanzania",
          "Thailand",
          "Timor-Leste",
          "Togo",
          "Trinidad & Tobago",
          "Tunisia",
          "Turkey",
          "Turkmenistan",
          "Turks & Caicos Islands",
          "U.S. Virgin Islands",
          "Uganda",
          "Ukraine",
          "United Arab Emirates",
          "United Kingdom",
          "United States",
          "Uruguay",
          "Uzbekistan",
          "Vanuatu",
          "Venezuela",
          "Vietnam",
          "Yemen",
          "Zambia",
          "Zimbabwe",
          "Åland Islands"
         ],
         "marker": {
          "line": {
           "color": "rgb(180,180,180)",
           "width": 1
          }
         },
         "text": [
          "Afghanistan",
          "Albania",
          "Algeria",
          "American Samoa",
          "Andorra",
          "Angola",
          "Anguilla",
          "Antigua & Barbuda",
          "Argentina",
          "Armenia",
          "Aruba",
          "Australia",
          "Austria",
          "Azerbaijan",
          "Bahamas",
          "Bahrain",
          "Bangladesh",
          "Barbados",
          "Belarus",
          "Belgium",
          "Belize",
          "Benin",
          "Bermuda",
          "Bhutan",
          "Bolivia",
          "Bosnia & Herzegovina",
          "Botswana",
          "Brazil",
          "British Virgin Islands",
          "Brunei",
          "Bulgaria",
          "Burkina Faso",
          "Burundi",
          "Cambodia",
          "Cameroon",
          "Canada",
          "Cape Verde",
          "Caribbean Netherlands",
          "Cayman Islands",
          "Central African Republic",
          "Chad",
          "Chile",
          "China",
          "Colombia",
          "Comoros",
          "Congo - Brazzaville",
          "Congo - Kinshasa",
          "Cook Islands",
          "Costa Rica",
          "Croatia",
          "Curaçao",
          "Cyprus",
          "Czechia",
          "Côte d’Ivoire",
          "Denmark",
          "Djibouti",
          "Dominica",
          "Dominican Republic",
          "Ecuador",
          "Egypt",
          "El Salvador",
          "Equatorial Guinea",
          "Eritrea",
          "Estonia",
          "Ethiopia",
          "Faroe Islands",
          "Fiji",
          "Finland",
          "France",
          "French Guiana",
          "French Polynesia",
          "Gabon",
          "Gambia",
          "Georgia",
          "Germany",
          "Ghana",
          "Gibraltar",
          "Greece",
          "Greenland",
          "Grenada",
          "Guadeloupe",
          "Guam",
          "Guatemala",
          "Guernsey",
          "Guinea",
          "Guinea-Bissau",
          "Guyana",
          "Haiti",
          "Honduras",
          "Hong Kong",
          "Hungary",
          "Iceland",
          "India",
          "Indonesia",
          "Iran",
          "Iraq",
          "Ireland",
          "Isle of Man",
          "Israel",
          "Italy",
          "Jamaica",
          "Japan",
          "Jersey",
          "Jordan",
          "Kazakhstan",
          "Kenya",
          "Kosovo",
          "Kuwait",
          "Kyrgyzstan",
          "Laos",
          "Latvia",
          "Lebanon",
          "Lesotho",
          "Liberia",
          "Libya",
          "Liechtenstein",
          "Lithuania",
          "Luxembourg",
          "Macau",
          "Macedonia (FYROM)",
          "Madagascar",
          "Malawi",
          "Malaysia",
          "Maldives",
          "Mali",
          "Malta",
          "Marshall Islands",
          "Martinique",
          "Mauritania",
          "Mauritius",
          "Mayotte",
          "Mexico",
          "Moldova",
          "Monaco",
          "Mongolia",
          "Montenegro",
          "Morocco",
          "Mozambique",
          "Myanmar (Burma)",
          "Namibia",
          "Nepal",
          "Netherlands",
          "New Caledonia",
          "New Zealand",
          "Nicaragua",
          "Niger",
          "Nigeria",
          "Norfolk Island",
          "Northern Mariana Islands",
          "Norway",
          "Oman",
          "Pakistan",
          "Palestine",
          "Panama",
          "Papua New Guinea",
          "Paraguay",
          "Peru",
          "Philippines",
          "Poland",
          "Portugal",
          "Puerto Rico",
          "Qatar",
          "Romania",
          "Russia",
          "Rwanda",
          "Réunion",
          "Samoa",
          "San Marino",
          "Saudi Arabia",
          "Senegal",
          "Serbia",
          "Seychelles",
          "Sierra Leone",
          "Singapore",
          "Sint Maarten",
          "Slovakia",
          "Slovenia",
          "Somalia",
          "South Africa",
          "South Korea",
          "Spain",
          "Sri Lanka",
          "St. Barthélemy",
          "St. Kitts & Nevis",
          "St. Lucia",
          "St. Martin",
          "St. Pierre & Miquelon",
          "St. Vincent & Grenadines",
          "Sudan",
          "Suriname",
          "Swaziland",
          "Sweden",
          "Switzerland",
          "Syria",
          "São Tomé & Príncipe",
          "Taiwan",
          "Tajikistan",
          "Tanzania",
          "Thailand",
          "Timor-Leste",
          "Togo",
          "Trinidad & Tobago",
          "Tunisia",
          "Turkey",
          "Turkmenistan",
          "Turks & Caicos Islands",
          "U.S. Virgin Islands",
          "Uganda",
          "Ukraine",
          "United Arab Emirates",
          "United Kingdom",
          "United States",
          "Uruguay",
          "Uzbekistan",
          "Vanuatu",
          "Venezuela",
          "Vietnam",
          "Yemen",
          "Zambia",
          "Zimbabwe",
          "Åland Islands"
         ],
         "type": "choropleth",
         "uid": "2dfb795e-d6ff-11e8-b53b-08d40cd82bf7",
         "z": [
          138,
          996,
          3911,
          1,
          60,
          187,
          18,
          14,
          14722,
          827,
          87,
          49544,
          8211,
          1200,
          119,
          739,
          6244,
          138,
          2366,
          15179,
          70,
          182,
          210,
          17,
          805,
          1535,
          26,
          48529,
          10,
          247,
          5280,
          84,
          33,
          1430,
          397,
          159092,
          69,
          4,
          52,
          13,
          49,
          6115,
          10136,
          16347,
          2,
          7,
          239,
          5,
          2525,
          3974,
          227,
          1551,
          12241,
          866,
          11870,
          28,
          11,
          2761,
          3496,
          6146,
          2303,
          13,
          1,
          2342,
          328,
          49,
          330,
          3855,
          53444,
          37,
          101,
          66,
          19,
          1814,
          61728,
          1002,
          19,
          9912,
          10,
          91,
          228,
          140,
          3319,
          158,
          96,
          6,
          240,
          85,
          802,
          20869,
          7027,
          380,
          155266,
          24164,
          81,
          1673,
          20082,
          24,
          18289,
          35255,
          672,
          74251,
          100,
          1854,
          1935,
          2472,
          885,
          1915,
          254,
          699,
          1946,
          986,
          14,
          12,
          183,
          9,
          2652,
          592,
          359,
          1660,
          78,
          14,
          18124,
          203,
          55,
          571,
          2,
          321,
          84,
          208,
          27,
          38057,
          624,
          181,
          474,
          286,
          4194,
          177,
          1013,
          73,
          527,
          36106,
          62,
          7878,
          706,
          21,
          3718,
          1,
          51,
          7752,
          622,
          10198,
          568,
          2349,
          54,
          722,
          13036,
          27541,
          26401,
          7591,
          4795,
          1410,
          16828,
          26043,
          93,
          480,
          3,
          24,
          7775,
          263,
          4309,
          3,
          18,
          30025,
          32,
          5294,
          2103,
          113,
          5905,
          18225,
          34619,
          6263,
          1,
          45,
          378,
          1,
          2,
          65,
          245,
          171,
          17,
          16586,
          17616,
          16,
          1,
          55745,
          26,
          714,
          40204,
          22,
          105,
          770,
          2368,
          37965,
          9,
          24,
          78,
          395,
          15198,
          7681,
          107145,
          2483593,
          2374,
          154,
          3,
          21056,
          42059,
          240,
          146,
          150,
          1
         ]
        }
       ],
       "layout": {
        "geo": {
         "projection": {
          "type": "mercator"
         },
         "showframe": false
        },
        "title": "Page Hits Across geography"
       }
      },
      "text/html": [
       "<div id=\"d92e9966-f1bd-47c7-a698-b0c92d40b573\" style=\"height: 525px; width: 100%;\" class=\"plotly-graph-div\"></div><script type=\"text/javascript\">require([\"plotly\"], function(Plotly) { window.PLOTLYENV=window.PLOTLYENV || {};window.PLOTLYENV.BASE_URL=\"https://plot.ly\";Plotly.newPlot(\"d92e9966-f1bd-47c7-a698-b0c92d40b573\", [{\"uid\": \"2dfb795e-d6ff-11e8-b53b-08d40cd82bf7\", \"text\": [\"Afghanistan\", \"Albania\", \"Algeria\", \"American Samoa\", \"Andorra\", \"Angola\", \"Anguilla\", \"Antigua & Barbuda\", \"Argentina\", \"Armenia\", \"Aruba\", \"Australia\", \"Austria\", \"Azerbaijan\", \"Bahamas\", \"Bahrain\", \"Bangladesh\", \"Barbados\", \"Belarus\", \"Belgium\", \"Belize\", \"Benin\", \"Bermuda\", \"Bhutan\", \"Bolivia\", \"Bosnia & Herzegovina\", \"Botswana\", \"Brazil\", \"British Virgin Islands\", \"Brunei\", \"Bulgaria\", \"Burkina Faso\", \"Burundi\", \"Cambodia\", \"Cameroon\", \"Canada\", \"Cape Verde\", \"Caribbean Netherlands\", \"Cayman Islands\", \"Central African Republic\", \"Chad\", \"Chile\", \"China\", \"Colombia\", \"Comoros\", \"Congo - Brazzaville\", \"Congo - Kinshasa\", \"Cook Islands\", \"Costa Rica\", \"Croatia\", \"Cura\\u00e7ao\", \"Cyprus\", \"Czechia\", \"C\\u00f4te d\\u2019Ivoire\", \"Denmark\", \"Djibouti\", \"Dominica\", \"Dominican Republic\", \"Ecuador\", \"Egypt\", \"El Salvador\", \"Equatorial Guinea\", \"Eritrea\", \"Estonia\", \"Ethiopia\", \"Faroe Islands\", \"Fiji\", \"Finland\", \"France\", \"French Guiana\", \"French Polynesia\", \"Gabon\", \"Gambia\", \"Georgia\", \"Germany\", \"Ghana\", \"Gibraltar\", \"Greece\", \"Greenland\", \"Grenada\", \"Guadeloupe\", \"Guam\", \"Guatemala\", \"Guernsey\", \"Guinea\", \"Guinea-Bissau\", \"Guyana\", \"Haiti\", \"Honduras\", \"Hong Kong\", \"Hungary\", \"Iceland\", \"India\", \"Indonesia\", \"Iran\", \"Iraq\", \"Ireland\", \"Isle of Man\", \"Israel\", \"Italy\", \"Jamaica\", \"Japan\", \"Jersey\", \"Jordan\", \"Kazakhstan\", \"Kenya\", \"Kosovo\", \"Kuwait\", \"Kyrgyzstan\", \"Laos\", \"Latvia\", \"Lebanon\", \"Lesotho\", \"Liberia\", \"Libya\", \"Liechtenstein\", \"Lithuania\", \"Luxembourg\", \"Macau\", \"Macedonia (FYROM)\", \"Madagascar\", \"Malawi\", \"Malaysia\", \"Maldives\", \"Mali\", \"Malta\", \"Marshall Islands\", \"Martinique\", \"Mauritania\", \"Mauritius\", \"Mayotte\", \"Mexico\", \"Moldova\", \"Monaco\", \"Mongolia\", \"Montenegro\", \"Morocco\", \"Mozambique\", \"Myanmar (Burma)\", \"Namibia\", \"Nepal\", \"Netherlands\", \"New Caledonia\", \"New Zealand\", \"Nicaragua\", \"Niger\", \"Nigeria\", \"Norfolk Island\", \"Northern Mariana Islands\", \"Norway\", \"Oman\", \"Pakistan\", \"Palestine\", \"Panama\", \"Papua New Guinea\", \"Paraguay\", \"Peru\", \"Philippines\", \"Poland\", \"Portugal\", \"Puerto Rico\", \"Qatar\", \"Romania\", \"Russia\", \"Rwanda\", \"R\\u00e9union\", \"Samoa\", \"San Marino\", \"Saudi Arabia\", \"Senegal\", \"Serbia\", \"Seychelles\", \"Sierra Leone\", \"Singapore\", \"Sint Maarten\", \"Slovakia\", \"Slovenia\", \"Somalia\", \"South Africa\", \"South Korea\", \"Spain\", \"Sri Lanka\", \"St. Barth\\u00e9lemy\", \"St. Kitts & Nevis\", \"St. Lucia\", \"St. Martin\", \"St. Pierre & Miquelon\", \"St. Vincent & Grenadines\", \"Sudan\", \"Suriname\", \"Swaziland\", \"Sweden\", \"Switzerland\", \"Syria\", \"S\\u00e3o Tom\\u00e9 & Pr\\u00edncipe\", \"Taiwan\", \"Tajikistan\", \"Tanzania\", \"Thailand\", \"Timor-Leste\", \"Togo\", \"Trinidad & Tobago\", \"Tunisia\", \"Turkey\", \"Turkmenistan\", \"Turks & Caicos Islands\", \"U.S. Virgin Islands\", \"Uganda\", \"Ukraine\", \"United Arab Emirates\", \"United Kingdom\", \"United States\", \"Uruguay\", \"Uzbekistan\", \"Vanuatu\", \"Venezuela\", \"Vietnam\", \"Yemen\", \"Zambia\", \"Zimbabwe\", \"\\u00c5land Islands\"], \"locations\": [\"Afghanistan\", \"Albania\", \"Algeria\", \"American Samoa\", \"Andorra\", \"Angola\", \"Anguilla\", \"Antigua & Barbuda\", \"Argentina\", \"Armenia\", \"Aruba\", \"Australia\", \"Austria\", \"Azerbaijan\", \"Bahamas\", \"Bahrain\", \"Bangladesh\", \"Barbados\", \"Belarus\", \"Belgium\", \"Belize\", \"Benin\", \"Bermuda\", \"Bhutan\", \"Bolivia\", \"Bosnia & Herzegovina\", \"Botswana\", \"Brazil\", \"British Virgin Islands\", \"Brunei\", \"Bulgaria\", \"Burkina Faso\", \"Burundi\", \"Cambodia\", \"Cameroon\", \"Canada\", \"Cape Verde\", \"Caribbean Netherlands\", \"Cayman Islands\", \"Central African Republic\", \"Chad\", \"Chile\", \"China\", \"Colombia\", \"Comoros\", \"Congo - Brazzaville\", \"Congo - Kinshasa\", \"Cook Islands\", \"Costa Rica\", \"Croatia\", \"Cura\\u00e7ao\", \"Cyprus\", \"Czechia\", \"C\\u00f4te d\\u2019Ivoire\", \"Denmark\", \"Djibouti\", \"Dominica\", \"Dominican Republic\", \"Ecuador\", \"Egypt\", \"El Salvador\", \"Equatorial Guinea\", \"Eritrea\", \"Estonia\", \"Ethiopia\", \"Faroe Islands\", \"Fiji\", \"Finland\", \"France\", \"French Guiana\", \"French Polynesia\", \"Gabon\", \"Gambia\", \"Georgia\", \"Germany\", \"Ghana\", \"Gibraltar\", \"Greece\", \"Greenland\", \"Grenada\", \"Guadeloupe\", \"Guam\", \"Guatemala\", \"Guernsey\", \"Guinea\", \"Guinea-Bissau\", \"Guyana\", \"Haiti\", \"Honduras\", \"Hong Kong\", \"Hungary\", \"Iceland\", \"India\", \"Indonesia\", \"Iran\", \"Iraq\", \"Ireland\", \"Isle of Man\", \"Israel\", \"Italy\", \"Jamaica\", \"Japan\", \"Jersey\", \"Jordan\", \"Kazakhstan\", \"Kenya\", \"Kosovo\", \"Kuwait\", \"Kyrgyzstan\", \"Laos\", \"Latvia\", \"Lebanon\", \"Lesotho\", \"Liberia\", \"Libya\", \"Liechtenstein\", \"Lithuania\", \"Luxembourg\", \"Macau\", \"Macedonia (FYROM)\", \"Madagascar\", \"Malawi\", \"Malaysia\", \"Maldives\", \"Mali\", \"Malta\", \"Marshall Islands\", \"Martinique\", \"Mauritania\", \"Mauritius\", \"Mayotte\", \"Mexico\", \"Moldova\", \"Monaco\", \"Mongolia\", \"Montenegro\", \"Morocco\", \"Mozambique\", \"Myanmar (Burma)\", \"Namibia\", \"Nepal\", \"Netherlands\", \"New Caledonia\", \"New Zealand\", \"Nicaragua\", \"Niger\", \"Nigeria\", \"Norfolk Island\", \"Northern Mariana Islands\", \"Norway\", \"Oman\", \"Pakistan\", \"Palestine\", \"Panama\", \"Papua New Guinea\", \"Paraguay\", \"Peru\", \"Philippines\", \"Poland\", \"Portugal\", \"Puerto Rico\", \"Qatar\", \"Romania\", \"Russia\", \"Rwanda\", \"R\\u00e9union\", \"Samoa\", \"San Marino\", \"Saudi Arabia\", \"Senegal\", \"Serbia\", \"Seychelles\", \"Sierra Leone\", \"Singapore\", \"Sint Maarten\", \"Slovakia\", \"Slovenia\", \"Somalia\", \"South Africa\", \"South Korea\", \"Spain\", \"Sri Lanka\", \"St. Barth\\u00e9lemy\", \"St. Kitts & Nevis\", \"St. Lucia\", \"St. Martin\", \"St. Pierre & Miquelon\", \"St. Vincent & Grenadines\", \"Sudan\", \"Suriname\", \"Swaziland\", \"Sweden\", \"Switzerland\", \"Syria\", \"S\\u00e3o Tom\\u00e9 & Pr\\u00edncipe\", \"Taiwan\", \"Tajikistan\", \"Tanzania\", \"Thailand\", \"Timor-Leste\", \"Togo\", \"Trinidad & Tobago\", \"Tunisia\", \"Turkey\", \"Turkmenistan\", \"Turks & Caicos Islands\", \"U.S. Virgin Islands\", \"Uganda\", \"Ukraine\", \"United Arab Emirates\", \"United Kingdom\", \"United States\", \"Uruguay\", \"Uzbekistan\", \"Vanuatu\", \"Venezuela\", \"Vietnam\", \"Yemen\", \"Zambia\", \"Zimbabwe\", \"\\u00c5land Islands\"], \"colorbar\": {\"title\": \"Page Hits\"}, \"marker\": {\"line\": {\"color\": \"rgb(180,180,180)\", \"width\": 1}}, \"locationmode\": \"country names\", \"z\": [138.0, 996.0, 3911.0, 1.0, 60.0, 187.0, 18.0, 14.0, 14722.0, 827.0, 87.0, 49544.0, 8211.0, 1200.0, 119.0, 739.0, 6244.0, 138.0, 2366.0, 15179.0, 70.0, 182.0, 210.0, 17.0, 805.0, 1535.0, 26.0, 48529.0, 10.0, 247.0, 5280.0, 84.0, 33.0, 1430.0, 397.0, 159092.0, 69.0, 4.0, 52.0, 13.0, 49.0, 6115.0, 10136.0, 16347.0, 2.0, 7.0, 239.0, 5.0, 2525.0, 3974.0, 227.0, 1551.0, 12241.0, 866.0, 11870.0, 28.0, 11.0, 2761.0, 3496.0, 6146.0, 2303.0, 13.0, 1.0, 2342.0, 328.0, 49.0, 330.0, 3855.0, 53444.0, 37.0, 101.0, 66.0, 19.0, 1814.0, 61728.0, 1002.0, 19.0, 9912.0, 10.0, 91.0, 228.0, 140.0, 3319.0, 158.0, 96.0, 6.0, 240.0, 85.0, 802.0, 20869.0, 7027.0, 380.0, 155266.0, 24164.0, 81.0, 1673.0, 20082.0, 24.0, 18289.0, 35255.0, 672.0, 74251.0, 100.0, 1854.0, 1935.0, 2472.0, 885.0, 1915.0, 254.0, 699.0, 1946.0, 986.0, 14.0, 12.0, 183.0, 9.0, 2652.0, 592.0, 359.0, 1660.0, 78.0, 14.0, 18124.0, 203.0, 55.0, 571.0, 2.0, 321.0, 84.0, 208.0, 27.0, 38057.0, 624.0, 181.0, 474.0, 286.0, 4194.0, 177.0, 1013.0, 73.0, 527.0, 36106.0, 62.0, 7878.0, 706.0, 21.0, 3718.0, 1.0, 51.0, 7752.0, 622.0, 10198.0, 568.0, 2349.0, 54.0, 722.0, 13036.0, 27541.0, 26401.0, 7591.0, 4795.0, 1410.0, 16828.0, 26043.0, 93.0, 480.0, 3.0, 24.0, 7775.0, 263.0, 4309.0, 3.0, 18.0, 30025.0, 32.0, 5294.0, 2103.0, 113.0, 5905.0, 18225.0, 34619.0, 6263.0, 1.0, 45.0, 378.0, 1.0, 2.0, 65.0, 245.0, 171.0, 17.0, 16586.0, 17616.0, 16.0, 1.0, 55745.0, 26.0, 714.0, 40204.0, 22.0, 105.0, 770.0, 2368.0, 37965.0, 9.0, 24.0, 78.0, 395.0, 15198.0, 7681.0, 107145.0, 2483593.0, 2374.0, 154.0, 3.0, 21056.0, 42059.0, 240.0, 146.0, 150.0, 1.0], \"type\": \"choropleth\"}], {\"geo\": {\"projection\": {\"type\": \"mercator\"}, \"showframe\": false}, \"title\": \"Page Hits Across geography\"}, {\"linkText\": \"Export to plot.ly\", \"showLink\": true})});</script>"
      ],
      "text/vnd.plotly.v1+html": [
       "<div id=\"d92e9966-f1bd-47c7-a698-b0c92d40b573\" style=\"height: 525px; width: 100%;\" class=\"plotly-graph-div\"></div><script type=\"text/javascript\">require([\"plotly\"], function(Plotly) { window.PLOTLYENV=window.PLOTLYENV || {};window.PLOTLYENV.BASE_URL=\"https://plot.ly\";Plotly.newPlot(\"d92e9966-f1bd-47c7-a698-b0c92d40b573\", [{\"uid\": \"2dfb795e-d6ff-11e8-b53b-08d40cd82bf7\", \"text\": [\"Afghanistan\", \"Albania\", \"Algeria\", \"American Samoa\", \"Andorra\", \"Angola\", \"Anguilla\", \"Antigua & Barbuda\", \"Argentina\", \"Armenia\", \"Aruba\", \"Australia\", \"Austria\", \"Azerbaijan\", \"Bahamas\", \"Bahrain\", \"Bangladesh\", \"Barbados\", \"Belarus\", \"Belgium\", \"Belize\", \"Benin\", \"Bermuda\", \"Bhutan\", \"Bolivia\", \"Bosnia & Herzegovina\", \"Botswana\", \"Brazil\", \"British Virgin Islands\", \"Brunei\", \"Bulgaria\", \"Burkina Faso\", \"Burundi\", \"Cambodia\", \"Cameroon\", \"Canada\", \"Cape Verde\", \"Caribbean Netherlands\", \"Cayman Islands\", \"Central African Republic\", \"Chad\", \"Chile\", \"China\", \"Colombia\", \"Comoros\", \"Congo - Brazzaville\", \"Congo - Kinshasa\", \"Cook Islands\", \"Costa Rica\", \"Croatia\", \"Cura\\u00e7ao\", \"Cyprus\", \"Czechia\", \"C\\u00f4te d\\u2019Ivoire\", \"Denmark\", \"Djibouti\", \"Dominica\", \"Dominican Republic\", \"Ecuador\", \"Egypt\", \"El Salvador\", \"Equatorial Guinea\", \"Eritrea\", \"Estonia\", \"Ethiopia\", \"Faroe Islands\", \"Fiji\", \"Finland\", \"France\", \"French Guiana\", \"French Polynesia\", \"Gabon\", \"Gambia\", \"Georgia\", \"Germany\", \"Ghana\", \"Gibraltar\", \"Greece\", \"Greenland\", \"Grenada\", \"Guadeloupe\", \"Guam\", \"Guatemala\", \"Guernsey\", \"Guinea\", \"Guinea-Bissau\", \"Guyana\", \"Haiti\", \"Honduras\", \"Hong Kong\", \"Hungary\", \"Iceland\", \"India\", \"Indonesia\", \"Iran\", \"Iraq\", \"Ireland\", \"Isle of Man\", \"Israel\", \"Italy\", \"Jamaica\", \"Japan\", \"Jersey\", \"Jordan\", \"Kazakhstan\", \"Kenya\", \"Kosovo\", \"Kuwait\", \"Kyrgyzstan\", \"Laos\", \"Latvia\", \"Lebanon\", \"Lesotho\", \"Liberia\", \"Libya\", \"Liechtenstein\", \"Lithuania\", \"Luxembourg\", \"Macau\", \"Macedonia (FYROM)\", \"Madagascar\", \"Malawi\", \"Malaysia\", \"Maldives\", \"Mali\", \"Malta\", \"Marshall Islands\", \"Martinique\", \"Mauritania\", \"Mauritius\", \"Mayotte\", \"Mexico\", \"Moldova\", \"Monaco\", \"Mongolia\", \"Montenegro\", \"Morocco\", \"Mozambique\", \"Myanmar (Burma)\", \"Namibia\", \"Nepal\", \"Netherlands\", \"New Caledonia\", \"New Zealand\", \"Nicaragua\", \"Niger\", \"Nigeria\", \"Norfolk Island\", \"Northern Mariana Islands\", \"Norway\", \"Oman\", \"Pakistan\", \"Palestine\", \"Panama\", \"Papua New Guinea\", \"Paraguay\", \"Peru\", \"Philippines\", \"Poland\", \"Portugal\", \"Puerto Rico\", \"Qatar\", \"Romania\", \"Russia\", \"Rwanda\", \"R\\u00e9union\", \"Samoa\", \"San Marino\", \"Saudi Arabia\", \"Senegal\", \"Serbia\", \"Seychelles\", \"Sierra Leone\", \"Singapore\", \"Sint Maarten\", \"Slovakia\", \"Slovenia\", \"Somalia\", \"South Africa\", \"South Korea\", \"Spain\", \"Sri Lanka\", \"St. Barth\\u00e9lemy\", \"St. Kitts & Nevis\", \"St. Lucia\", \"St. Martin\", \"St. Pierre & Miquelon\", \"St. Vincent & Grenadines\", \"Sudan\", \"Suriname\", \"Swaziland\", \"Sweden\", \"Switzerland\", \"Syria\", \"S\\u00e3o Tom\\u00e9 & Pr\\u00edncipe\", \"Taiwan\", \"Tajikistan\", \"Tanzania\", \"Thailand\", \"Timor-Leste\", \"Togo\", \"Trinidad & Tobago\", \"Tunisia\", \"Turkey\", \"Turkmenistan\", \"Turks & Caicos Islands\", \"U.S. Virgin Islands\", \"Uganda\", \"Ukraine\", \"United Arab Emirates\", \"United Kingdom\", \"United States\", \"Uruguay\", \"Uzbekistan\", \"Vanuatu\", \"Venezuela\", \"Vietnam\", \"Yemen\", \"Zambia\", \"Zimbabwe\", \"\\u00c5land Islands\"], \"locations\": [\"Afghanistan\", \"Albania\", \"Algeria\", \"American Samoa\", \"Andorra\", \"Angola\", \"Anguilla\", \"Antigua & Barbuda\", \"Argentina\", \"Armenia\", \"Aruba\", \"Australia\", \"Austria\", \"Azerbaijan\", \"Bahamas\", \"Bahrain\", \"Bangladesh\", \"Barbados\", \"Belarus\", \"Belgium\", \"Belize\", \"Benin\", \"Bermuda\", \"Bhutan\", \"Bolivia\", \"Bosnia & Herzegovina\", \"Botswana\", \"Brazil\", \"British Virgin Islands\", \"Brunei\", \"Bulgaria\", \"Burkina Faso\", \"Burundi\", \"Cambodia\", \"Cameroon\", \"Canada\", \"Cape Verde\", \"Caribbean Netherlands\", \"Cayman Islands\", \"Central African Republic\", \"Chad\", \"Chile\", \"China\", \"Colombia\", \"Comoros\", \"Congo - Brazzaville\", \"Congo - Kinshasa\", \"Cook Islands\", \"Costa Rica\", \"Croatia\", \"Cura\\u00e7ao\", \"Cyprus\", \"Czechia\", \"C\\u00f4te d\\u2019Ivoire\", \"Denmark\", \"Djibouti\", \"Dominica\", \"Dominican Republic\", \"Ecuador\", \"Egypt\", \"El Salvador\", \"Equatorial Guinea\", \"Eritrea\", \"Estonia\", \"Ethiopia\", \"Faroe Islands\", \"Fiji\", \"Finland\", \"France\", \"French Guiana\", \"French Polynesia\", \"Gabon\", \"Gambia\", \"Georgia\", \"Germany\", \"Ghana\", \"Gibraltar\", \"Greece\", \"Greenland\", \"Grenada\", \"Guadeloupe\", \"Guam\", \"Guatemala\", \"Guernsey\", \"Guinea\", \"Guinea-Bissau\", \"Guyana\", \"Haiti\", \"Honduras\", \"Hong Kong\", \"Hungary\", \"Iceland\", \"India\", \"Indonesia\", \"Iran\", \"Iraq\", \"Ireland\", \"Isle of Man\", \"Israel\", \"Italy\", \"Jamaica\", \"Japan\", \"Jersey\", \"Jordan\", \"Kazakhstan\", \"Kenya\", \"Kosovo\", \"Kuwait\", \"Kyrgyzstan\", \"Laos\", \"Latvia\", \"Lebanon\", \"Lesotho\", \"Liberia\", \"Libya\", \"Liechtenstein\", \"Lithuania\", \"Luxembourg\", \"Macau\", \"Macedonia (FYROM)\", \"Madagascar\", \"Malawi\", \"Malaysia\", \"Maldives\", \"Mali\", \"Malta\", \"Marshall Islands\", \"Martinique\", \"Mauritania\", \"Mauritius\", \"Mayotte\", \"Mexico\", \"Moldova\", \"Monaco\", \"Mongolia\", \"Montenegro\", \"Morocco\", \"Mozambique\", \"Myanmar (Burma)\", \"Namibia\", \"Nepal\", \"Netherlands\", \"New Caledonia\", \"New Zealand\", \"Nicaragua\", \"Niger\", \"Nigeria\", \"Norfolk Island\", \"Northern Mariana Islands\", \"Norway\", \"Oman\", \"Pakistan\", \"Palestine\", \"Panama\", \"Papua New Guinea\", \"Paraguay\", \"Peru\", \"Philippines\", \"Poland\", \"Portugal\", \"Puerto Rico\", \"Qatar\", \"Romania\", \"Russia\", \"Rwanda\", \"R\\u00e9union\", \"Samoa\", \"San Marino\", \"Saudi Arabia\", \"Senegal\", \"Serbia\", \"Seychelles\", \"Sierra Leone\", \"Singapore\", \"Sint Maarten\", \"Slovakia\", \"Slovenia\", \"Somalia\", \"South Africa\", \"South Korea\", \"Spain\", \"Sri Lanka\", \"St. Barth\\u00e9lemy\", \"St. Kitts & Nevis\", \"St. Lucia\", \"St. Martin\", \"St. Pierre & Miquelon\", \"St. Vincent & Grenadines\", \"Sudan\", \"Suriname\", \"Swaziland\", \"Sweden\", \"Switzerland\", \"Syria\", \"S\\u00e3o Tom\\u00e9 & Pr\\u00edncipe\", \"Taiwan\", \"Tajikistan\", \"Tanzania\", \"Thailand\", \"Timor-Leste\", \"Togo\", \"Trinidad & Tobago\", \"Tunisia\", \"Turkey\", \"Turkmenistan\", \"Turks & Caicos Islands\", \"U.S. Virgin Islands\", \"Uganda\", \"Ukraine\", \"United Arab Emirates\", \"United Kingdom\", \"United States\", \"Uruguay\", \"Uzbekistan\", \"Vanuatu\", \"Venezuela\", \"Vietnam\", \"Yemen\", \"Zambia\", \"Zimbabwe\", \"\\u00c5land Islands\"], \"colorbar\": {\"title\": \"Page Hits\"}, \"marker\": {\"line\": {\"color\": \"rgb(180,180,180)\", \"width\": 1}}, \"locationmode\": \"country names\", \"z\": [138.0, 996.0, 3911.0, 1.0, 60.0, 187.0, 18.0, 14.0, 14722.0, 827.0, 87.0, 49544.0, 8211.0, 1200.0, 119.0, 739.0, 6244.0, 138.0, 2366.0, 15179.0, 70.0, 182.0, 210.0, 17.0, 805.0, 1535.0, 26.0, 48529.0, 10.0, 247.0, 5280.0, 84.0, 33.0, 1430.0, 397.0, 159092.0, 69.0, 4.0, 52.0, 13.0, 49.0, 6115.0, 10136.0, 16347.0, 2.0, 7.0, 239.0, 5.0, 2525.0, 3974.0, 227.0, 1551.0, 12241.0, 866.0, 11870.0, 28.0, 11.0, 2761.0, 3496.0, 6146.0, 2303.0, 13.0, 1.0, 2342.0, 328.0, 49.0, 330.0, 3855.0, 53444.0, 37.0, 101.0, 66.0, 19.0, 1814.0, 61728.0, 1002.0, 19.0, 9912.0, 10.0, 91.0, 228.0, 140.0, 3319.0, 158.0, 96.0, 6.0, 240.0, 85.0, 802.0, 20869.0, 7027.0, 380.0, 155266.0, 24164.0, 81.0, 1673.0, 20082.0, 24.0, 18289.0, 35255.0, 672.0, 74251.0, 100.0, 1854.0, 1935.0, 2472.0, 885.0, 1915.0, 254.0, 699.0, 1946.0, 986.0, 14.0, 12.0, 183.0, 9.0, 2652.0, 592.0, 359.0, 1660.0, 78.0, 14.0, 18124.0, 203.0, 55.0, 571.0, 2.0, 321.0, 84.0, 208.0, 27.0, 38057.0, 624.0, 181.0, 474.0, 286.0, 4194.0, 177.0, 1013.0, 73.0, 527.0, 36106.0, 62.0, 7878.0, 706.0, 21.0, 3718.0, 1.0, 51.0, 7752.0, 622.0, 10198.0, 568.0, 2349.0, 54.0, 722.0, 13036.0, 27541.0, 26401.0, 7591.0, 4795.0, 1410.0, 16828.0, 26043.0, 93.0, 480.0, 3.0, 24.0, 7775.0, 263.0, 4309.0, 3.0, 18.0, 30025.0, 32.0, 5294.0, 2103.0, 113.0, 5905.0, 18225.0, 34619.0, 6263.0, 1.0, 45.0, 378.0, 1.0, 2.0, 65.0, 245.0, 171.0, 17.0, 16586.0, 17616.0, 16.0, 1.0, 55745.0, 26.0, 714.0, 40204.0, 22.0, 105.0, 770.0, 2368.0, 37965.0, 9.0, 24.0, 78.0, 395.0, 15198.0, 7681.0, 107145.0, 2483593.0, 2374.0, 154.0, 3.0, 21056.0, 42059.0, 240.0, 146.0, 150.0, 1.0], \"type\": \"choropleth\"}], {\"geo\": {\"projection\": {\"type\": \"mercator\"}, \"showframe\": false}, \"title\": \"Page Hits Across geography\"}, {\"linkText\": \"Export to plot.ly\", \"showLink\": true})});</script>"
      ]
     },
     "metadata": {},
     "output_type": "display_data"
    }
   ],
   "source": [
    "data = dict(type = 'choropleth', \n",
    "           locations = gdfCountry['country'],\n",
    "           locationmode = 'country names',\n",
    "           z = gdfCountry['hits'], \n",
    "           text = gdfCountry['country'],\n",
    "           #autocolorscale = False,\n",
    "           marker = dict(\n",
    "            line = dict (\n",
    "                color = 'rgb(180,180,180)',\n",
    "                width = 1\n",
    "            ) ),\n",
    "           colorbar = {'title':'Page Hits'})\n",
    "layout = dict(title = 'Page Hits Across geography', \n",
    "             geo = dict(showframe = False, \n",
    "                       projection = {'type': 'mercator'}))\n",
    "choromap3 = go.Figure(data = [data], layout=layout)\n",
    "iplot(choromap3)\n"
   ]
  },
  {
   "cell_type": "code",
   "execution_count": 52,
   "metadata": {},
   "outputs": [
    {
     "data": {
      "application/vnd.plotly.v1+json": {
       "data": [
        {
         "colorbar": {
          "title": "Revenue"
         },
         "locationmode": "country names",
         "locations": [
          "Afghanistan",
          "Albania",
          "Algeria",
          "American Samoa",
          "Andorra",
          "Angola",
          "Anguilla",
          "Antigua & Barbuda",
          "Argentina",
          "Armenia",
          "Aruba",
          "Australia",
          "Austria",
          "Azerbaijan",
          "Bahamas",
          "Bahrain",
          "Bangladesh",
          "Barbados",
          "Belarus",
          "Belgium",
          "Belize",
          "Benin",
          "Bermuda",
          "Bhutan",
          "Bolivia",
          "Bosnia & Herzegovina",
          "Botswana",
          "Brazil",
          "British Virgin Islands",
          "Brunei",
          "Bulgaria",
          "Burkina Faso",
          "Burundi",
          "Cambodia",
          "Cameroon",
          "Canada",
          "Cape Verde",
          "Caribbean Netherlands",
          "Cayman Islands",
          "Central African Republic",
          "Chad",
          "Chile",
          "China",
          "Colombia",
          "Comoros",
          "Congo - Brazzaville",
          "Congo - Kinshasa",
          "Cook Islands",
          "Costa Rica",
          "Croatia",
          "Curaçao",
          "Cyprus",
          "Czechia",
          "Côte d’Ivoire",
          "Denmark",
          "Djibouti",
          "Dominica",
          "Dominican Republic",
          "Ecuador",
          "Egypt",
          "El Salvador",
          "Equatorial Guinea",
          "Eritrea",
          "Estonia",
          "Ethiopia",
          "Faroe Islands",
          "Fiji",
          "Finland",
          "France",
          "French Guiana",
          "French Polynesia",
          "Gabon",
          "Gambia",
          "Georgia",
          "Germany",
          "Ghana",
          "Gibraltar",
          "Greece",
          "Greenland",
          "Grenada",
          "Guadeloupe",
          "Guam",
          "Guatemala",
          "Guernsey",
          "Guinea",
          "Guinea-Bissau",
          "Guyana",
          "Haiti",
          "Honduras",
          "Hong Kong",
          "Hungary",
          "Iceland",
          "India",
          "Indonesia",
          "Iran",
          "Iraq",
          "Ireland",
          "Isle of Man",
          "Israel",
          "Italy",
          "Jamaica",
          "Japan",
          "Jersey",
          "Jordan",
          "Kazakhstan",
          "Kenya",
          "Kosovo",
          "Kuwait",
          "Kyrgyzstan",
          "Laos",
          "Latvia",
          "Lebanon",
          "Lesotho",
          "Liberia",
          "Libya",
          "Liechtenstein",
          "Lithuania",
          "Luxembourg",
          "Macau",
          "Macedonia (FYROM)",
          "Madagascar",
          "Malawi",
          "Malaysia",
          "Maldives",
          "Mali",
          "Malta",
          "Marshall Islands",
          "Martinique",
          "Mauritania",
          "Mauritius",
          "Mayotte",
          "Mexico",
          "Moldova",
          "Monaco",
          "Mongolia",
          "Montenegro",
          "Morocco",
          "Mozambique",
          "Myanmar (Burma)",
          "Namibia",
          "Nepal",
          "Netherlands",
          "New Caledonia",
          "New Zealand",
          "Nicaragua",
          "Niger",
          "Nigeria",
          "Norfolk Island",
          "Northern Mariana Islands",
          "Norway",
          "Oman",
          "Pakistan",
          "Palestine",
          "Panama",
          "Papua New Guinea",
          "Paraguay",
          "Peru",
          "Philippines",
          "Poland",
          "Portugal",
          "Puerto Rico",
          "Qatar",
          "Romania",
          "Russia",
          "Rwanda",
          "Réunion",
          "Samoa",
          "San Marino",
          "Saudi Arabia",
          "Senegal",
          "Serbia",
          "Seychelles",
          "Sierra Leone",
          "Singapore",
          "Sint Maarten",
          "Slovakia",
          "Slovenia",
          "Somalia",
          "South Africa",
          "South Korea",
          "Spain",
          "Sri Lanka",
          "St. Barthélemy",
          "St. Kitts & Nevis",
          "St. Lucia",
          "St. Martin",
          "St. Pierre & Miquelon",
          "St. Vincent & Grenadines",
          "Sudan",
          "Suriname",
          "Swaziland",
          "Sweden",
          "Switzerland",
          "Syria",
          "São Tomé & Príncipe",
          "Taiwan",
          "Tajikistan",
          "Tanzania",
          "Thailand",
          "Timor-Leste",
          "Togo",
          "Trinidad & Tobago",
          "Tunisia",
          "Turkey",
          "Turkmenistan",
          "Turks & Caicos Islands",
          "U.S. Virgin Islands",
          "Uganda",
          "Ukraine",
          "United Arab Emirates",
          "United Kingdom",
          "United States",
          "Uruguay",
          "Uzbekistan",
          "Vanuatu",
          "Venezuela",
          "Vietnam",
          "Yemen",
          "Zambia",
          "Zimbabwe",
          "Åland Islands"
         ],
         "marker": {
          "line": {
           "color": "rgb(180,180,180)",
           "width": 1
          }
         },
         "text": [
          "Afghanistan",
          "Albania",
          "Algeria",
          "American Samoa",
          "Andorra",
          "Angola",
          "Anguilla",
          "Antigua & Barbuda",
          "Argentina",
          "Armenia",
          "Aruba",
          "Australia",
          "Austria",
          "Azerbaijan",
          "Bahamas",
          "Bahrain",
          "Bangladesh",
          "Barbados",
          "Belarus",
          "Belgium",
          "Belize",
          "Benin",
          "Bermuda",
          "Bhutan",
          "Bolivia",
          "Bosnia & Herzegovina",
          "Botswana",
          "Brazil",
          "British Virgin Islands",
          "Brunei",
          "Bulgaria",
          "Burkina Faso",
          "Burundi",
          "Cambodia",
          "Cameroon",
          "Canada",
          "Cape Verde",
          "Caribbean Netherlands",
          "Cayman Islands",
          "Central African Republic",
          "Chad",
          "Chile",
          "China",
          "Colombia",
          "Comoros",
          "Congo - Brazzaville",
          "Congo - Kinshasa",
          "Cook Islands",
          "Costa Rica",
          "Croatia",
          "Curaçao",
          "Cyprus",
          "Czechia",
          "Côte d’Ivoire",
          "Denmark",
          "Djibouti",
          "Dominica",
          "Dominican Republic",
          "Ecuador",
          "Egypt",
          "El Salvador",
          "Equatorial Guinea",
          "Eritrea",
          "Estonia",
          "Ethiopia",
          "Faroe Islands",
          "Fiji",
          "Finland",
          "France",
          "French Guiana",
          "French Polynesia",
          "Gabon",
          "Gambia",
          "Georgia",
          "Germany",
          "Ghana",
          "Gibraltar",
          "Greece",
          "Greenland",
          "Grenada",
          "Guadeloupe",
          "Guam",
          "Guatemala",
          "Guernsey",
          "Guinea",
          "Guinea-Bissau",
          "Guyana",
          "Haiti",
          "Honduras",
          "Hong Kong",
          "Hungary",
          "Iceland",
          "India",
          "Indonesia",
          "Iran",
          "Iraq",
          "Ireland",
          "Isle of Man",
          "Israel",
          "Italy",
          "Jamaica",
          "Japan",
          "Jersey",
          "Jordan",
          "Kazakhstan",
          "Kenya",
          "Kosovo",
          "Kuwait",
          "Kyrgyzstan",
          "Laos",
          "Latvia",
          "Lebanon",
          "Lesotho",
          "Liberia",
          "Libya",
          "Liechtenstein",
          "Lithuania",
          "Luxembourg",
          "Macau",
          "Macedonia (FYROM)",
          "Madagascar",
          "Malawi",
          "Malaysia",
          "Maldives",
          "Mali",
          "Malta",
          "Marshall Islands",
          "Martinique",
          "Mauritania",
          "Mauritius",
          "Mayotte",
          "Mexico",
          "Moldova",
          "Monaco",
          "Mongolia",
          "Montenegro",
          "Morocco",
          "Mozambique",
          "Myanmar (Burma)",
          "Namibia",
          "Nepal",
          "Netherlands",
          "New Caledonia",
          "New Zealand",
          "Nicaragua",
          "Niger",
          "Nigeria",
          "Norfolk Island",
          "Northern Mariana Islands",
          "Norway",
          "Oman",
          "Pakistan",
          "Palestine",
          "Panama",
          "Papua New Guinea",
          "Paraguay",
          "Peru",
          "Philippines",
          "Poland",
          "Portugal",
          "Puerto Rico",
          "Qatar",
          "Romania",
          "Russia",
          "Rwanda",
          "Réunion",
          "Samoa",
          "San Marino",
          "Saudi Arabia",
          "Senegal",
          "Serbia",
          "Seychelles",
          "Sierra Leone",
          "Singapore",
          "Sint Maarten",
          "Slovakia",
          "Slovenia",
          "Somalia",
          "South Africa",
          "South Korea",
          "Spain",
          "Sri Lanka",
          "St. Barthélemy",
          "St. Kitts & Nevis",
          "St. Lucia",
          "St. Martin",
          "St. Pierre & Miquelon",
          "St. Vincent & Grenadines",
          "Sudan",
          "Suriname",
          "Swaziland",
          "Sweden",
          "Switzerland",
          "Syria",
          "São Tomé & Príncipe",
          "Taiwan",
          "Tajikistan",
          "Tanzania",
          "Thailand",
          "Timor-Leste",
          "Togo",
          "Trinidad & Tobago",
          "Tunisia",
          "Turkey",
          "Turkmenistan",
          "Turks & Caicos Islands",
          "U.S. Virgin Islands",
          "Uganda",
          "Ukraine",
          "United Arab Emirates",
          "United Kingdom",
          "United States",
          "Uruguay",
          "Uzbekistan",
          "Vanuatu",
          "Venezuela",
          "Vietnam",
          "Yemen",
          "Zambia",
          "Zimbabwe",
          "Åland Islands"
         ],
         "type": "choropleth",
         "uid": "2e02a551-d6ff-11e8-b6cd-08d40cd82bf7",
         "z": [
          0,
          0,
          0,
          0,
          0,
          0,
          10990000,
          0,
          262440000,
          30480000,
          0,
          1745260000,
          0,
          0,
          0,
          0,
          0,
          0,
          0,
          992050000,
          0,
          0,
          0,
          0,
          0,
          0,
          0,
          641830000,
          0,
          0,
          0,
          0,
          0,
          0,
          0,
          32824540000,
          0,
          0,
          0,
          0,
          0,
          247260000,
          211670000,
          604870000,
          0,
          0,
          0,
          0,
          0,
          0,
          206330000,
          75440000,
          44790000,
          0,
          25000000,
          0,
          0,
          0,
          674930000,
          50960000,
          76890000,
          0,
          0,
          0,
          0,
          0,
          0,
          58980000,
          446080000,
          0,
          0,
          0,
          0,
          38980000,
          549340000,
          0,
          0,
          159330000,
          0,
          0,
          27180000,
          0,
          60150000,
          0,
          0,
          0,
          0,
          0,
          0,
          1467960000,
          33590000,
          0,
          696660000,
          1840380000,
          0,
          0,
          144860000,
          0,
          619600000,
          204090000,
          0,
          6728990000,
          0,
          0,
          34980000,
          5268700000,
          0,
          238220000,
          0,
          0,
          0,
          40770000,
          0,
          0,
          0,
          0,
          0,
          0,
          0,
          0,
          0,
          0,
          471850000,
          0,
          0,
          0,
          0,
          0,
          0,
          0,
          0,
          1592790000,
          0,
          0,
          0,
          0,
          0,
          0,
          0,
          0,
          0,
          259050000,
          0,
          47970000,
          63990000,
          0,
          3302400000,
          0,
          0,
          0,
          0,
          57950000,
          0,
          111730000,
          0,
          0,
          127580000,
          138030000,
          230000000,
          215800000,
          1202840000,
          0,
          75960000,
          94940000,
          0,
          0,
          0,
          0,
          265080000,
          0,
          0,
          0,
          0,
          843020000,
          0,
          0,
          0,
          0,
          65700000,
          745710000,
          384790000,
          0,
          0,
          0,
          116210000,
          0,
          0,
          0,
          0,
          0,
          0,
          75590000,
          595820000,
          0,
          0,
          1920890000,
          0,
          0,
          462710000,
          0,
          0,
          0,
          0,
          102410000,
          0,
          0,
          0,
          0,
          467520000,
          370060000,
          1689450000,
          1452440650000,
          3500000,
          0,
          0,
          13374900000,
          0,
          0,
          0,
          0,
          0
         ]
        }
       ],
       "layout": {
        "geo": {
         "projection": {
          "type": "mercator"
         },
         "showframe": false
        },
        "title": "Valued Transactions done Geographically"
       }
      },
      "text/html": [
       "<div id=\"e83b55c2-de82-4e5d-9c15-b93e96da0db3\" style=\"height: 525px; width: 100%;\" class=\"plotly-graph-div\"></div><script type=\"text/javascript\">require([\"plotly\"], function(Plotly) { window.PLOTLYENV=window.PLOTLYENV || {};window.PLOTLYENV.BASE_URL=\"https://plot.ly\";Plotly.newPlot(\"e83b55c2-de82-4e5d-9c15-b93e96da0db3\", [{\"uid\": \"2e02a551-d6ff-11e8-b6cd-08d40cd82bf7\", \"text\": [\"Afghanistan\", \"Albania\", \"Algeria\", \"American Samoa\", \"Andorra\", \"Angola\", \"Anguilla\", \"Antigua & Barbuda\", \"Argentina\", \"Armenia\", \"Aruba\", \"Australia\", \"Austria\", \"Azerbaijan\", \"Bahamas\", \"Bahrain\", \"Bangladesh\", \"Barbados\", \"Belarus\", \"Belgium\", \"Belize\", \"Benin\", \"Bermuda\", \"Bhutan\", \"Bolivia\", \"Bosnia & Herzegovina\", \"Botswana\", \"Brazil\", \"British Virgin Islands\", \"Brunei\", \"Bulgaria\", \"Burkina Faso\", \"Burundi\", \"Cambodia\", \"Cameroon\", \"Canada\", \"Cape Verde\", \"Caribbean Netherlands\", \"Cayman Islands\", \"Central African Republic\", \"Chad\", \"Chile\", \"China\", \"Colombia\", \"Comoros\", \"Congo - Brazzaville\", \"Congo - Kinshasa\", \"Cook Islands\", \"Costa Rica\", \"Croatia\", \"Cura\\u00e7ao\", \"Cyprus\", \"Czechia\", \"C\\u00f4te d\\u2019Ivoire\", \"Denmark\", \"Djibouti\", \"Dominica\", \"Dominican Republic\", \"Ecuador\", \"Egypt\", \"El Salvador\", \"Equatorial Guinea\", \"Eritrea\", \"Estonia\", \"Ethiopia\", \"Faroe Islands\", \"Fiji\", \"Finland\", \"France\", \"French Guiana\", \"French Polynesia\", \"Gabon\", \"Gambia\", \"Georgia\", \"Germany\", \"Ghana\", \"Gibraltar\", \"Greece\", \"Greenland\", \"Grenada\", \"Guadeloupe\", \"Guam\", \"Guatemala\", \"Guernsey\", \"Guinea\", \"Guinea-Bissau\", \"Guyana\", \"Haiti\", \"Honduras\", \"Hong Kong\", \"Hungary\", \"Iceland\", \"India\", \"Indonesia\", \"Iran\", \"Iraq\", \"Ireland\", \"Isle of Man\", \"Israel\", \"Italy\", \"Jamaica\", \"Japan\", \"Jersey\", \"Jordan\", \"Kazakhstan\", \"Kenya\", \"Kosovo\", \"Kuwait\", \"Kyrgyzstan\", \"Laos\", \"Latvia\", \"Lebanon\", \"Lesotho\", \"Liberia\", \"Libya\", \"Liechtenstein\", \"Lithuania\", \"Luxembourg\", \"Macau\", \"Macedonia (FYROM)\", \"Madagascar\", \"Malawi\", \"Malaysia\", \"Maldives\", \"Mali\", \"Malta\", \"Marshall Islands\", \"Martinique\", \"Mauritania\", \"Mauritius\", \"Mayotte\", \"Mexico\", \"Moldova\", \"Monaco\", \"Mongolia\", \"Montenegro\", \"Morocco\", \"Mozambique\", \"Myanmar (Burma)\", \"Namibia\", \"Nepal\", \"Netherlands\", \"New Caledonia\", \"New Zealand\", \"Nicaragua\", \"Niger\", \"Nigeria\", \"Norfolk Island\", \"Northern Mariana Islands\", \"Norway\", \"Oman\", \"Pakistan\", \"Palestine\", \"Panama\", \"Papua New Guinea\", \"Paraguay\", \"Peru\", \"Philippines\", \"Poland\", \"Portugal\", \"Puerto Rico\", \"Qatar\", \"Romania\", \"Russia\", \"Rwanda\", \"R\\u00e9union\", \"Samoa\", \"San Marino\", \"Saudi Arabia\", \"Senegal\", \"Serbia\", \"Seychelles\", \"Sierra Leone\", \"Singapore\", \"Sint Maarten\", \"Slovakia\", \"Slovenia\", \"Somalia\", \"South Africa\", \"South Korea\", \"Spain\", \"Sri Lanka\", \"St. Barth\\u00e9lemy\", \"St. Kitts & Nevis\", \"St. Lucia\", \"St. Martin\", \"St. Pierre & Miquelon\", \"St. Vincent & Grenadines\", \"Sudan\", \"Suriname\", \"Swaziland\", \"Sweden\", \"Switzerland\", \"Syria\", \"S\\u00e3o Tom\\u00e9 & Pr\\u00edncipe\", \"Taiwan\", \"Tajikistan\", \"Tanzania\", \"Thailand\", \"Timor-Leste\", \"Togo\", \"Trinidad & Tobago\", \"Tunisia\", \"Turkey\", \"Turkmenistan\", \"Turks & Caicos Islands\", \"U.S. Virgin Islands\", \"Uganda\", \"Ukraine\", \"United Arab Emirates\", \"United Kingdom\", \"United States\", \"Uruguay\", \"Uzbekistan\", \"Vanuatu\", \"Venezuela\", \"Vietnam\", \"Yemen\", \"Zambia\", \"Zimbabwe\", \"\\u00c5land Islands\"], \"locations\": [\"Afghanistan\", \"Albania\", \"Algeria\", \"American Samoa\", \"Andorra\", \"Angola\", \"Anguilla\", \"Antigua & Barbuda\", \"Argentina\", \"Armenia\", \"Aruba\", \"Australia\", \"Austria\", \"Azerbaijan\", \"Bahamas\", \"Bahrain\", \"Bangladesh\", \"Barbados\", \"Belarus\", \"Belgium\", \"Belize\", \"Benin\", \"Bermuda\", \"Bhutan\", \"Bolivia\", \"Bosnia & Herzegovina\", \"Botswana\", \"Brazil\", \"British Virgin Islands\", \"Brunei\", \"Bulgaria\", \"Burkina Faso\", \"Burundi\", \"Cambodia\", \"Cameroon\", \"Canada\", \"Cape Verde\", \"Caribbean Netherlands\", \"Cayman Islands\", \"Central African Republic\", \"Chad\", \"Chile\", \"China\", \"Colombia\", \"Comoros\", \"Congo - Brazzaville\", \"Congo - Kinshasa\", \"Cook Islands\", \"Costa Rica\", \"Croatia\", \"Cura\\u00e7ao\", \"Cyprus\", \"Czechia\", \"C\\u00f4te d\\u2019Ivoire\", \"Denmark\", \"Djibouti\", \"Dominica\", \"Dominican Republic\", \"Ecuador\", \"Egypt\", \"El Salvador\", \"Equatorial Guinea\", \"Eritrea\", \"Estonia\", \"Ethiopia\", \"Faroe Islands\", \"Fiji\", \"Finland\", \"France\", \"French Guiana\", \"French Polynesia\", \"Gabon\", \"Gambia\", \"Georgia\", \"Germany\", \"Ghana\", \"Gibraltar\", \"Greece\", \"Greenland\", \"Grenada\", \"Guadeloupe\", \"Guam\", \"Guatemala\", \"Guernsey\", \"Guinea\", \"Guinea-Bissau\", \"Guyana\", \"Haiti\", \"Honduras\", \"Hong Kong\", \"Hungary\", \"Iceland\", \"India\", \"Indonesia\", \"Iran\", \"Iraq\", \"Ireland\", \"Isle of Man\", \"Israel\", \"Italy\", \"Jamaica\", \"Japan\", \"Jersey\", \"Jordan\", \"Kazakhstan\", \"Kenya\", \"Kosovo\", \"Kuwait\", \"Kyrgyzstan\", \"Laos\", \"Latvia\", \"Lebanon\", \"Lesotho\", \"Liberia\", \"Libya\", \"Liechtenstein\", \"Lithuania\", \"Luxembourg\", \"Macau\", \"Macedonia (FYROM)\", \"Madagascar\", \"Malawi\", \"Malaysia\", \"Maldives\", \"Mali\", \"Malta\", \"Marshall Islands\", \"Martinique\", \"Mauritania\", \"Mauritius\", \"Mayotte\", \"Mexico\", \"Moldova\", \"Monaco\", \"Mongolia\", \"Montenegro\", \"Morocco\", \"Mozambique\", \"Myanmar (Burma)\", \"Namibia\", \"Nepal\", \"Netherlands\", \"New Caledonia\", \"New Zealand\", \"Nicaragua\", \"Niger\", \"Nigeria\", \"Norfolk Island\", \"Northern Mariana Islands\", \"Norway\", \"Oman\", \"Pakistan\", \"Palestine\", \"Panama\", \"Papua New Guinea\", \"Paraguay\", \"Peru\", \"Philippines\", \"Poland\", \"Portugal\", \"Puerto Rico\", \"Qatar\", \"Romania\", \"Russia\", \"Rwanda\", \"R\\u00e9union\", \"Samoa\", \"San Marino\", \"Saudi Arabia\", \"Senegal\", \"Serbia\", \"Seychelles\", \"Sierra Leone\", \"Singapore\", \"Sint Maarten\", \"Slovakia\", \"Slovenia\", \"Somalia\", \"South Africa\", \"South Korea\", \"Spain\", \"Sri Lanka\", \"St. Barth\\u00e9lemy\", \"St. Kitts & Nevis\", \"St. Lucia\", \"St. Martin\", \"St. Pierre & Miquelon\", \"St. Vincent & Grenadines\", \"Sudan\", \"Suriname\", \"Swaziland\", \"Sweden\", \"Switzerland\", \"Syria\", \"S\\u00e3o Tom\\u00e9 & Pr\\u00edncipe\", \"Taiwan\", \"Tajikistan\", \"Tanzania\", \"Thailand\", \"Timor-Leste\", \"Togo\", \"Trinidad & Tobago\", \"Tunisia\", \"Turkey\", \"Turkmenistan\", \"Turks & Caicos Islands\", \"U.S. Virgin Islands\", \"Uganda\", \"Ukraine\", \"United Arab Emirates\", \"United Kingdom\", \"United States\", \"Uruguay\", \"Uzbekistan\", \"Vanuatu\", \"Venezuela\", \"Vietnam\", \"Yemen\", \"Zambia\", \"Zimbabwe\", \"\\u00c5land Islands\"], \"colorbar\": {\"title\": \"Revenue\"}, \"marker\": {\"line\": {\"color\": \"rgb(180,180,180)\", \"width\": 1}}, \"locationmode\": \"country names\", \"z\": [0.0, 0.0, 0.0, 0.0, 0.0, 0.0, 10990000.0, 0.0, 262440000.0, 30480000.0, 0.0, 1745260000.0, 0.0, 0.0, 0.0, 0.0, 0.0, 0.0, 0.0, 992050000.0, 0.0, 0.0, 0.0, 0.0, 0.0, 0.0, 0.0, 641830000.0, 0.0, 0.0, 0.0, 0.0, 0.0, 0.0, 0.0, 32824540000.0, 0.0, 0.0, 0.0, 0.0, 0.0, 247260000.0, 211670000.0, 604870000.0, 0.0, 0.0, 0.0, 0.0, 0.0, 0.0, 206330000.0, 75440000.0, 44790000.0, 0.0, 25000000.0, 0.0, 0.0, 0.0, 674930000.0, 50960000.0, 76890000.0, 0.0, 0.0, 0.0, 0.0, 0.0, 0.0, 58980000.0, 446080000.0, 0.0, 0.0, 0.0, 0.0, 38980000.0, 549340000.0, 0.0, 0.0, 159330000.0, 0.0, 0.0, 27180000.0, 0.0, 60150000.0, 0.0, 0.0, 0.0, 0.0, 0.0, 0.0, 1467960000.0, 33590000.0, 0.0, 696660000.0, 1840380000.0, 0.0, 0.0, 144860000.0, 0.0, 619600000.0, 204090000.0, 0.0, 6728990000.0, 0.0, 0.0, 34980000.0, 5268700000.0, 0.0, 238220000.0, 0.0, 0.0, 0.0, 40770000.0, 0.0, 0.0, 0.0, 0.0, 0.0, 0.0, 0.0, 0.0, 0.0, 0.0, 471850000.0, 0.0, 0.0, 0.0, 0.0, 0.0, 0.0, 0.0, 0.0, 1592790000.0, 0.0, 0.0, 0.0, 0.0, 0.0, 0.0, 0.0, 0.0, 0.0, 259050000.0, 0.0, 47970000.0, 63990000.0, 0.0, 3302400000.0, 0.0, 0.0, 0.0, 0.0, 57950000.0, 0.0, 111730000.0, 0.0, 0.0, 127580000.0, 138030000.0, 230000000.0, 215800000.0, 1202840000.0, 0.0, 75960000.0, 94940000.0, 0.0, 0.0, 0.0, 0.0, 265080000.0, 0.0, 0.0, 0.0, 0.0, 843020000.0, 0.0, 0.0, 0.0, 0.0, 65700000.0, 745710000.0, 384790000.0, 0.0, 0.0, 0.0, 116210000.0, 0.0, 0.0, 0.0, 0.0, 0.0, 0.0, 75590000.0, 595820000.0, 0.0, 0.0, 1920890000.0, 0.0, 0.0, 462710000.0, 0.0, 0.0, 0.0, 0.0, 102410000.0, 0.0, 0.0, 0.0, 0.0, 467520000.0, 370060000.0, 1689450000.0, 1452440650000.0, 3500000.0, 0.0, 0.0, 13374900000.0, 0.0, 0.0, 0.0, 0.0, 0.0], \"type\": \"choropleth\"}], {\"geo\": {\"projection\": {\"type\": \"mercator\"}, \"showframe\": false}, \"title\": \"Valued Transactions done Geographically\"}, {\"linkText\": \"Export to plot.ly\", \"showLink\": true})});</script>"
      ],
      "text/vnd.plotly.v1+html": [
       "<div id=\"e83b55c2-de82-4e5d-9c15-b93e96da0db3\" style=\"height: 525px; width: 100%;\" class=\"plotly-graph-div\"></div><script type=\"text/javascript\">require([\"plotly\"], function(Plotly) { window.PLOTLYENV=window.PLOTLYENV || {};window.PLOTLYENV.BASE_URL=\"https://plot.ly\";Plotly.newPlot(\"e83b55c2-de82-4e5d-9c15-b93e96da0db3\", [{\"uid\": \"2e02a551-d6ff-11e8-b6cd-08d40cd82bf7\", \"text\": [\"Afghanistan\", \"Albania\", \"Algeria\", \"American Samoa\", \"Andorra\", \"Angola\", \"Anguilla\", \"Antigua & Barbuda\", \"Argentina\", \"Armenia\", \"Aruba\", \"Australia\", \"Austria\", \"Azerbaijan\", \"Bahamas\", \"Bahrain\", \"Bangladesh\", \"Barbados\", \"Belarus\", \"Belgium\", \"Belize\", \"Benin\", \"Bermuda\", \"Bhutan\", \"Bolivia\", \"Bosnia & Herzegovina\", \"Botswana\", \"Brazil\", \"British Virgin Islands\", \"Brunei\", \"Bulgaria\", \"Burkina Faso\", \"Burundi\", \"Cambodia\", \"Cameroon\", \"Canada\", \"Cape Verde\", \"Caribbean Netherlands\", \"Cayman Islands\", \"Central African Republic\", \"Chad\", \"Chile\", \"China\", \"Colombia\", \"Comoros\", \"Congo - Brazzaville\", \"Congo - Kinshasa\", \"Cook Islands\", \"Costa Rica\", \"Croatia\", \"Cura\\u00e7ao\", \"Cyprus\", \"Czechia\", \"C\\u00f4te d\\u2019Ivoire\", \"Denmark\", \"Djibouti\", \"Dominica\", \"Dominican Republic\", \"Ecuador\", \"Egypt\", \"El Salvador\", \"Equatorial Guinea\", \"Eritrea\", \"Estonia\", \"Ethiopia\", \"Faroe Islands\", \"Fiji\", \"Finland\", \"France\", \"French Guiana\", \"French Polynesia\", \"Gabon\", \"Gambia\", \"Georgia\", \"Germany\", \"Ghana\", \"Gibraltar\", \"Greece\", \"Greenland\", \"Grenada\", \"Guadeloupe\", \"Guam\", \"Guatemala\", \"Guernsey\", \"Guinea\", \"Guinea-Bissau\", \"Guyana\", \"Haiti\", \"Honduras\", \"Hong Kong\", \"Hungary\", \"Iceland\", \"India\", \"Indonesia\", \"Iran\", \"Iraq\", \"Ireland\", \"Isle of Man\", \"Israel\", \"Italy\", \"Jamaica\", \"Japan\", \"Jersey\", \"Jordan\", \"Kazakhstan\", \"Kenya\", \"Kosovo\", \"Kuwait\", \"Kyrgyzstan\", \"Laos\", \"Latvia\", \"Lebanon\", \"Lesotho\", \"Liberia\", \"Libya\", \"Liechtenstein\", \"Lithuania\", \"Luxembourg\", \"Macau\", \"Macedonia (FYROM)\", \"Madagascar\", \"Malawi\", \"Malaysia\", \"Maldives\", \"Mali\", \"Malta\", \"Marshall Islands\", \"Martinique\", \"Mauritania\", \"Mauritius\", \"Mayotte\", \"Mexico\", \"Moldova\", \"Monaco\", \"Mongolia\", \"Montenegro\", \"Morocco\", \"Mozambique\", \"Myanmar (Burma)\", \"Namibia\", \"Nepal\", \"Netherlands\", \"New Caledonia\", \"New Zealand\", \"Nicaragua\", \"Niger\", \"Nigeria\", \"Norfolk Island\", \"Northern Mariana Islands\", \"Norway\", \"Oman\", \"Pakistan\", \"Palestine\", \"Panama\", \"Papua New Guinea\", \"Paraguay\", \"Peru\", \"Philippines\", \"Poland\", \"Portugal\", \"Puerto Rico\", \"Qatar\", \"Romania\", \"Russia\", \"Rwanda\", \"R\\u00e9union\", \"Samoa\", \"San Marino\", \"Saudi Arabia\", \"Senegal\", \"Serbia\", \"Seychelles\", \"Sierra Leone\", \"Singapore\", \"Sint Maarten\", \"Slovakia\", \"Slovenia\", \"Somalia\", \"South Africa\", \"South Korea\", \"Spain\", \"Sri Lanka\", \"St. Barth\\u00e9lemy\", \"St. Kitts & Nevis\", \"St. Lucia\", \"St. Martin\", \"St. Pierre & Miquelon\", \"St. Vincent & Grenadines\", \"Sudan\", \"Suriname\", \"Swaziland\", \"Sweden\", \"Switzerland\", \"Syria\", \"S\\u00e3o Tom\\u00e9 & Pr\\u00edncipe\", \"Taiwan\", \"Tajikistan\", \"Tanzania\", \"Thailand\", \"Timor-Leste\", \"Togo\", \"Trinidad & Tobago\", \"Tunisia\", \"Turkey\", \"Turkmenistan\", \"Turks & Caicos Islands\", \"U.S. Virgin Islands\", \"Uganda\", \"Ukraine\", \"United Arab Emirates\", \"United Kingdom\", \"United States\", \"Uruguay\", \"Uzbekistan\", \"Vanuatu\", \"Venezuela\", \"Vietnam\", \"Yemen\", \"Zambia\", \"Zimbabwe\", \"\\u00c5land Islands\"], \"locations\": [\"Afghanistan\", \"Albania\", \"Algeria\", \"American Samoa\", \"Andorra\", \"Angola\", \"Anguilla\", \"Antigua & Barbuda\", \"Argentina\", \"Armenia\", \"Aruba\", \"Australia\", \"Austria\", \"Azerbaijan\", \"Bahamas\", \"Bahrain\", \"Bangladesh\", \"Barbados\", \"Belarus\", \"Belgium\", \"Belize\", \"Benin\", \"Bermuda\", \"Bhutan\", \"Bolivia\", \"Bosnia & Herzegovina\", \"Botswana\", \"Brazil\", \"British Virgin Islands\", \"Brunei\", \"Bulgaria\", \"Burkina Faso\", \"Burundi\", \"Cambodia\", \"Cameroon\", \"Canada\", \"Cape Verde\", \"Caribbean Netherlands\", \"Cayman Islands\", \"Central African Republic\", \"Chad\", \"Chile\", \"China\", \"Colombia\", \"Comoros\", \"Congo - Brazzaville\", \"Congo - Kinshasa\", \"Cook Islands\", \"Costa Rica\", \"Croatia\", \"Cura\\u00e7ao\", \"Cyprus\", \"Czechia\", \"C\\u00f4te d\\u2019Ivoire\", \"Denmark\", \"Djibouti\", \"Dominica\", \"Dominican Republic\", \"Ecuador\", \"Egypt\", \"El Salvador\", \"Equatorial Guinea\", \"Eritrea\", \"Estonia\", \"Ethiopia\", \"Faroe Islands\", \"Fiji\", \"Finland\", \"France\", \"French Guiana\", \"French Polynesia\", \"Gabon\", \"Gambia\", \"Georgia\", \"Germany\", \"Ghana\", \"Gibraltar\", \"Greece\", \"Greenland\", \"Grenada\", \"Guadeloupe\", \"Guam\", \"Guatemala\", \"Guernsey\", \"Guinea\", \"Guinea-Bissau\", \"Guyana\", \"Haiti\", \"Honduras\", \"Hong Kong\", \"Hungary\", \"Iceland\", \"India\", \"Indonesia\", \"Iran\", \"Iraq\", \"Ireland\", \"Isle of Man\", \"Israel\", \"Italy\", \"Jamaica\", \"Japan\", \"Jersey\", \"Jordan\", \"Kazakhstan\", \"Kenya\", \"Kosovo\", \"Kuwait\", \"Kyrgyzstan\", \"Laos\", \"Latvia\", \"Lebanon\", \"Lesotho\", \"Liberia\", \"Libya\", \"Liechtenstein\", \"Lithuania\", \"Luxembourg\", \"Macau\", \"Macedonia (FYROM)\", \"Madagascar\", \"Malawi\", \"Malaysia\", \"Maldives\", \"Mali\", \"Malta\", \"Marshall Islands\", \"Martinique\", \"Mauritania\", \"Mauritius\", \"Mayotte\", \"Mexico\", \"Moldova\", \"Monaco\", \"Mongolia\", \"Montenegro\", \"Morocco\", \"Mozambique\", \"Myanmar (Burma)\", \"Namibia\", \"Nepal\", \"Netherlands\", \"New Caledonia\", \"New Zealand\", \"Nicaragua\", \"Niger\", \"Nigeria\", \"Norfolk Island\", \"Northern Mariana Islands\", \"Norway\", \"Oman\", \"Pakistan\", \"Palestine\", \"Panama\", \"Papua New Guinea\", \"Paraguay\", \"Peru\", \"Philippines\", \"Poland\", \"Portugal\", \"Puerto Rico\", \"Qatar\", \"Romania\", \"Russia\", \"Rwanda\", \"R\\u00e9union\", \"Samoa\", \"San Marino\", \"Saudi Arabia\", \"Senegal\", \"Serbia\", \"Seychelles\", \"Sierra Leone\", \"Singapore\", \"Sint Maarten\", \"Slovakia\", \"Slovenia\", \"Somalia\", \"South Africa\", \"South Korea\", \"Spain\", \"Sri Lanka\", \"St. Barth\\u00e9lemy\", \"St. Kitts & Nevis\", \"St. Lucia\", \"St. Martin\", \"St. Pierre & Miquelon\", \"St. Vincent & Grenadines\", \"Sudan\", \"Suriname\", \"Swaziland\", \"Sweden\", \"Switzerland\", \"Syria\", \"S\\u00e3o Tom\\u00e9 & Pr\\u00edncipe\", \"Taiwan\", \"Tajikistan\", \"Tanzania\", \"Thailand\", \"Timor-Leste\", \"Togo\", \"Trinidad & Tobago\", \"Tunisia\", \"Turkey\", \"Turkmenistan\", \"Turks & Caicos Islands\", \"U.S. Virgin Islands\", \"Uganda\", \"Ukraine\", \"United Arab Emirates\", \"United Kingdom\", \"United States\", \"Uruguay\", \"Uzbekistan\", \"Vanuatu\", \"Venezuela\", \"Vietnam\", \"Yemen\", \"Zambia\", \"Zimbabwe\", \"\\u00c5land Islands\"], \"colorbar\": {\"title\": \"Revenue\"}, \"marker\": {\"line\": {\"color\": \"rgb(180,180,180)\", \"width\": 1}}, \"locationmode\": \"country names\", \"z\": [0.0, 0.0, 0.0, 0.0, 0.0, 0.0, 10990000.0, 0.0, 262440000.0, 30480000.0, 0.0, 1745260000.0, 0.0, 0.0, 0.0, 0.0, 0.0, 0.0, 0.0, 992050000.0, 0.0, 0.0, 0.0, 0.0, 0.0, 0.0, 0.0, 641830000.0, 0.0, 0.0, 0.0, 0.0, 0.0, 0.0, 0.0, 32824540000.0, 0.0, 0.0, 0.0, 0.0, 0.0, 247260000.0, 211670000.0, 604870000.0, 0.0, 0.0, 0.0, 0.0, 0.0, 0.0, 206330000.0, 75440000.0, 44790000.0, 0.0, 25000000.0, 0.0, 0.0, 0.0, 674930000.0, 50960000.0, 76890000.0, 0.0, 0.0, 0.0, 0.0, 0.0, 0.0, 58980000.0, 446080000.0, 0.0, 0.0, 0.0, 0.0, 38980000.0, 549340000.0, 0.0, 0.0, 159330000.0, 0.0, 0.0, 27180000.0, 0.0, 60150000.0, 0.0, 0.0, 0.0, 0.0, 0.0, 0.0, 1467960000.0, 33590000.0, 0.0, 696660000.0, 1840380000.0, 0.0, 0.0, 144860000.0, 0.0, 619600000.0, 204090000.0, 0.0, 6728990000.0, 0.0, 0.0, 34980000.0, 5268700000.0, 0.0, 238220000.0, 0.0, 0.0, 0.0, 40770000.0, 0.0, 0.0, 0.0, 0.0, 0.0, 0.0, 0.0, 0.0, 0.0, 0.0, 471850000.0, 0.0, 0.0, 0.0, 0.0, 0.0, 0.0, 0.0, 0.0, 1592790000.0, 0.0, 0.0, 0.0, 0.0, 0.0, 0.0, 0.0, 0.0, 0.0, 259050000.0, 0.0, 47970000.0, 63990000.0, 0.0, 3302400000.0, 0.0, 0.0, 0.0, 0.0, 57950000.0, 0.0, 111730000.0, 0.0, 0.0, 127580000.0, 138030000.0, 230000000.0, 215800000.0, 1202840000.0, 0.0, 75960000.0, 94940000.0, 0.0, 0.0, 0.0, 0.0, 265080000.0, 0.0, 0.0, 0.0, 0.0, 843020000.0, 0.0, 0.0, 0.0, 0.0, 65700000.0, 745710000.0, 384790000.0, 0.0, 0.0, 0.0, 116210000.0, 0.0, 0.0, 0.0, 0.0, 0.0, 0.0, 75590000.0, 595820000.0, 0.0, 0.0, 1920890000.0, 0.0, 0.0, 462710000.0, 0.0, 0.0, 0.0, 0.0, 102410000.0, 0.0, 0.0, 0.0, 0.0, 467520000.0, 370060000.0, 1689450000.0, 1452440650000.0, 3500000.0, 0.0, 0.0, 13374900000.0, 0.0, 0.0, 0.0, 0.0, 0.0], \"type\": \"choropleth\"}], {\"geo\": {\"projection\": {\"type\": \"mercator\"}, \"showframe\": false}, \"title\": \"Valued Transactions done Geographically\"}, {\"linkText\": \"Export to plot.ly\", \"showLink\": true})});</script>"
      ]
     },
     "metadata": {},
     "output_type": "display_data"
    }
   ],
   "source": [
    "data = dict(type = 'choropleth', \n",
    "           locations = gdfCountry['country'],\n",
    "           locationmode = 'country names',\n",
    "           z = gdfCountry['transactionRevenue'], \n",
    "           text = gdfCountry['country'],\n",
    "           #autocolorscale = False,\n",
    "           marker = dict(\n",
    "            line = dict (\n",
    "                color = 'rgb(180,180,180)',\n",
    "                width = 1\n",
    "            ) ),\n",
    "           colorbar = {'title':'Revenue'})\n",
    "layout = dict(title = 'Valued Transactions done Geographically', \n",
    "             geo = dict(showframe = False, \n",
    "                       projection = {'type': 'mercator'}))\n",
    "choromap3 = go.Figure(data = [data], layout=layout)\n",
    "iplot(choromap3)"
   ]
  },
  {
   "cell_type": "code",
   "execution_count": 53,
   "metadata": {},
   "outputs": [],
   "source": [
    "cluster_df = df.copy()"
   ]
  },
  {
   "cell_type": "code",
   "execution_count": 54,
   "metadata": {},
   "outputs": [
    {
     "name": "stderr",
     "output_type": "stream",
     "text": [
      "IOPub data rate exceeded.\n",
      "The notebook server will temporarily stop sending output\n",
      "to the client in order to avoid crashing it.\n",
      "To change this limit, set the config variable\n",
      "`--NotebookApp.iopub_data_rate_limit`.\n"
     ]
    }
   ],
   "source": [
    "data = dict(type = 'choropleth', \n",
    "           locations = cluster_df['country'],\n",
    "           locationmode = 'country names',\n",
    "           z = cluster_df['isMobile'], \n",
    "           text = cluster_df['country'],\n",
    "           marker = dict(\n",
    "            line = dict (\n",
    "                color = 'rgb(180,180,180)',\n",
    "                width = 1\n",
    "            ) ),\n",
    "           colorbar = {'title':'Mobile Phones Used'})\n",
    "layout = dict(title = 'Mobile Phones used to Access Google Store Across Countries', \n",
    "             geo = dict(showframe = False, \n",
    "                       projection = {'type': 'mercator'}))\n",
    "choromap3 = go.Figure(data = [data], layout=layout)\n",
    "iplot(choromap3)"
   ]
  },
  {
   "cell_type": "markdown",
   "metadata": {},
   "source": [
    "## 4. Buying score or Probability Function"
   ]
  },
  {
   "cell_type": "code",
   "execution_count": 55,
   "metadata": {},
   "outputs": [
    {
     "name": "stderr",
     "output_type": "stream",
     "text": [
      "C:\\Users\\rajes\\Anaconda2\\lib\\site-packages\\sklearn\\cross_validation.py:44: DeprecationWarning:\n",
      "\n",
      "This module was deprecated in version 0.18 in favor of the model_selection module into which all the refactored classes and functions are moved. Also note that the interface of the new CV iterators are different from that of this module. This module will be removed in 0.20.\n",
      "\n"
     ]
    },
    {
     "name": "stdout",
     "output_type": "stream",
     "text": [
      "Wall time: 16.7 s\n"
     ]
    }
   ],
   "source": [
    "%%time\n",
    "from sklearn.linear_model import LogisticRegression\n",
    "from sklearn.cross_validation import train_test_split\n",
    "\n",
    "# creating the data set\n",
    "scoreDf = df.copy()\n",
    "\n",
    "# one-hot encoding of continents\n",
    "scoreDf['isAsia'] = np.where(scoreDf['continent'] == 'Asia', 1, 0)\n",
    "scoreDf['isAmericas'] = np.where(scoreDf['continent'] == 'Americas', 1, 0)\n",
    "scoreDf['isOceania'] = np.where(scoreDf['continent'] == 'Oceania', 1, 0)\n",
    "scoreDf['isAfrica'] = np.where(scoreDf['continent'] == 'Africa', 1, 0)\n",
    "scoreDf['isEurope'] = np.where(scoreDf['continent'] == 'Europe', 1, 0)\n",
    "\n",
    "#drop categorical columns\n",
    "for f in df.columns:\n",
    "    if(df[f].dtype == 'object'):\n",
    "        scoreDf = scoreDf.drop(f,axis =1)"
   ]
  },
  {
   "cell_type": "code",
   "execution_count": 56,
   "metadata": {},
   "outputs": [
    {
     "name": "stdout",
     "output_type": "stream",
     "text": [
      "[LibLinear]"
     ]
    },
    {
     "data": {
      "text/plain": [
       "LogisticRegression(C=1.0, class_weight=None, dual=False, fit_intercept=True,\n",
       "          intercept_scaling=1, max_iter=100, multi_class='ovr', n_jobs=1,\n",
       "          penalty='l2', random_state=None, solver='liblinear', tol=0.0001,\n",
       "          verbose=1000, warm_start=False)"
      ]
     },
     "execution_count": 56,
     "metadata": {},
     "output_type": "execute_result"
    }
   ],
   "source": [
    "scoreDf = scoreDf.drop(['transactionRevenue', 'transactionRevenue_log', 'visitId','visitNumber', 'visitStartTime'],axis=1)\n",
    "scoreDf[\"fullVisitorId\"] = df[\"fullVisitorId\"]\n",
    "#print scoreDf.head()\n",
    "\n",
    "#label        \n",
    "y = df.transactionRevenue.apply(lambda x: 1 if x > 1000 else 0)\n",
    "\n",
    "# modelling\n",
    "x_train, x_test, y_train, y_test = train_test_split(scoreDf,y,test_size=0.2)\n",
    "my_regression = LogisticRegression(verbose =1000) \n",
    "my_regression.fit(x_train,y_train) \n",
    "# my_regression_pred = my_regression.predict_proba(x_test)"
   ]
  },
  {
   "cell_type": "code",
   "execution_count": 57,
   "metadata": {
    "collapsed": true
   },
   "outputs": [],
   "source": [
    "my_regression_pred = my_regression.predict_proba(scoreDf)"
   ]
  },
  {
   "cell_type": "code",
   "execution_count": 58,
   "metadata": {
    "collapsed": true
   },
   "outputs": [],
   "source": [
    "arr = my_regression_pred[:,1]\n",
    "scoreDf[\"probabilityFunc\"] = arr\n",
    "scoreDf[\"transactionRevenue\"] = df[\"transactionRevenue\"]\n",
    "scoreDf[\"transactionRevenue_log\"] = df[\"transactionRevenue_log\"]"
   ]
  },
  {
   "cell_type": "code",
   "execution_count": 59,
   "metadata": {
    "collapsed": true
   },
   "outputs": [],
   "source": [
    "gpScoreDf = scoreDf.groupby('fullVisitorId').sum().reset_index()"
   ]
  },
  {
   "cell_type": "code",
   "execution_count": 60,
   "metadata": {},
   "outputs": [
    {
     "data": {
      "text/html": [
       "<div>\n",
       "<style scoped>\n",
       "    .dataframe tbody tr th:only-of-type {\n",
       "        vertical-align: middle;\n",
       "    }\n",
       "\n",
       "    .dataframe tbody tr th {\n",
       "        vertical-align: top;\n",
       "    }\n",
       "\n",
       "    .dataframe thead th {\n",
       "        text-align: right;\n",
       "    }\n",
       "</style>\n",
       "<table border=\"1\" class=\"dataframe\">\n",
       "  <thead>\n",
       "    <tr style=\"text-align: right;\">\n",
       "      <th></th>\n",
       "      <th>fullVisitorId</th>\n",
       "      <th>probabilityFunc</th>\n",
       "      <th>transactionRevenue</th>\n",
       "    </tr>\n",
       "  </thead>\n",
       "  <tbody>\n",
       "    <tr>\n",
       "      <th>58716</th>\n",
       "      <td>0824839726118485274</td>\n",
       "      <td>64.372818</td>\n",
       "      <td>0.000000e+00</td>\n",
       "    </tr>\n",
       "    <tr>\n",
       "      <th>16720</th>\n",
       "      <td>0232377434237234751</td>\n",
       "      <td>57.257354</td>\n",
       "      <td>1.798000e+07</td>\n",
       "    </tr>\n",
       "    <tr>\n",
       "      <th>51304</th>\n",
       "      <td>0720311197761340948</td>\n",
       "      <td>42.729375</td>\n",
       "      <td>0.000000e+00</td>\n",
       "    </tr>\n",
       "    <tr>\n",
       "      <th>67614</th>\n",
       "      <td>0949718915643445721</td>\n",
       "      <td>28.505835</td>\n",
       "      <td>0.000000e+00</td>\n",
       "    </tr>\n",
       "    <tr>\n",
       "      <th>28367</th>\n",
       "      <td>039671683621540641</td>\n",
       "      <td>28.243060</td>\n",
       "      <td>0.000000e+00</td>\n",
       "    </tr>\n",
       "    <tr>\n",
       "      <th>131815</th>\n",
       "      <td>185123961166899959</td>\n",
       "      <td>26.802546</td>\n",
       "      <td>0.000000e+00</td>\n",
       "    </tr>\n",
       "    <tr>\n",
       "      <th>16451</th>\n",
       "      <td>0228136717057254790</td>\n",
       "      <td>24.253065</td>\n",
       "      <td>0.000000e+00</td>\n",
       "    </tr>\n",
       "    <tr>\n",
       "      <th>48233</th>\n",
       "      <td>0678102787097322550</td>\n",
       "      <td>21.794601</td>\n",
       "      <td>0.000000e+00</td>\n",
       "    </tr>\n",
       "    <tr>\n",
       "      <th>139589</th>\n",
       "      <td>1957458976293878100</td>\n",
       "      <td>19.648027</td>\n",
       "      <td>7.711343e+10</td>\n",
       "    </tr>\n",
       "    <tr>\n",
       "      <th>35417</th>\n",
       "      <td>0496231255525014468</td>\n",
       "      <td>19.510296</td>\n",
       "      <td>0.000000e+00</td>\n",
       "    </tr>\n",
       "  </tbody>\n",
       "</table>\n",
       "</div>"
      ],
      "text/plain": [
       "              fullVisitorId  probabilityFunc  transactionRevenue\n",
       "58716   0824839726118485274        64.372818        0.000000e+00\n",
       "16720   0232377434237234751        57.257354        1.798000e+07\n",
       "51304   0720311197761340948        42.729375        0.000000e+00\n",
       "67614   0949718915643445721        28.505835        0.000000e+00\n",
       "28367    039671683621540641        28.243060        0.000000e+00\n",
       "131815   185123961166899959        26.802546        0.000000e+00\n",
       "16451   0228136717057254790        24.253065        0.000000e+00\n",
       "48233   0678102787097322550        21.794601        0.000000e+00\n",
       "139589  1957458976293878100        19.648027        7.711343e+10\n",
       "35417   0496231255525014468        19.510296        0.000000e+00"
      ]
     },
     "execution_count": 60,
     "metadata": {},
     "output_type": "execute_result"
    }
   ],
   "source": [
    "gpScoreDf[['fullVisitorId', 'probabilityFunc', 'transactionRevenue']].sort_values(['probabilityFunc'], ascending= False).head(10)"
   ]
  },
  {
   "cell_type": "markdown",
   "metadata": {},
   "source": [
    "## 5. External DataSet - GDP"
   ]
  },
  {
   "cell_type": "code",
   "execution_count": 61,
   "metadata": {
    "collapsed": true
   },
   "outputs": [],
   "source": [
    "gdb_df = pd.read_csv(\"GDP_per_country.csv\")"
   ]
  },
  {
   "cell_type": "code",
   "execution_count": 62,
   "metadata": {
    "collapsed": true
   },
   "outputs": [],
   "source": [
    "newdf = pd.merge(df, gdb_df, on='country', how='outer')"
   ]
  },
  {
   "cell_type": "code",
   "execution_count": 63,
   "metadata": {},
   "outputs": [
    {
     "data": {
      "text/plain": [
       "(903685, 38)"
      ]
     },
     "execution_count": 63,
     "metadata": {},
     "output_type": "execute_result"
    }
   ],
   "source": [
    "newdf.shape"
   ]
  },
  {
   "cell_type": "code",
   "execution_count": 64,
   "metadata": {},
   "outputs": [
    {
     "data": {
      "text/plain": [
       "<matplotlib.axes._subplots.AxesSubplot at 0x2027f4198>"
      ]
     },
     "execution_count": 64,
     "metadata": {},
     "output_type": "execute_result"
    },
    {
     "data": {
      "image/png": "[encoded data removed]",
      "text/plain": [
       "<matplotlib.figure.Figure at 0x2027c14a8>"
      ]
     },
     "metadata": {},
     "output_type": "display_data"
    }
   ],
   "source": [
    "cor = newdf.corr() \n",
    "sns.heatmap(cor, square = True) "
   ]
  },
  {
   "cell_type": "code",
   "execution_count": 65,
   "metadata": {},
   "outputs": [
    {
     "name": "stderr",
     "output_type": "stream",
     "text": [
      "C:\\Users\\rajes\\Anaconda2\\lib\\site-packages\\scipy\\stats\\stats.py:1633: FutureWarning:\n",
      "\n",
      "Using a non-tuple sequence for multidimensional indexing is deprecated; use `arr[tuple(seq)]` instead of `arr[seq]`. In the future this will be interpreted as an array index, `arr[np.array(seq)]`, which will result either in an error or a different result.\n",
      "\n"
     ]
    },
    {
     "data": {
      "image/png": "[encoded data removed]",
      "text/plain": [
       "<matplotlib.figure.Figure at 0x219b81630>"
      ]
     },
     "metadata": {},
     "output_type": "display_data"
    }
   ],
   "source": [
    "plt.title ('GDP vs Hits')\n",
    "plt.xlabel('GDP in dollars')\n",
    "plt.ylabel('Hits')\n",
    "plt.scatter(newdf['GDP'],newdf['hits'])\n",
    "sns.regplot(x = newdf['GDP'], y = newdf['hits'], scatter=False, color ='red')\n",
    "plt.show()"
   ]
  },
  {
   "cell_type": "markdown",
   "metadata": {},
   "source": [
    "## 6. Prediction Model"
   ]
  },
  {
   "cell_type": "markdown",
   "metadata": {},
   "source": [
    "###  a) Using XGBRegressor"
   ]
  },
  {
   "cell_type": "code",
   "execution_count": 66,
   "metadata": {},
   "outputs": [
    {
     "name": "stdout",
     "output_type": "stream",
     "text": [
      "Wall time: 1.08 s\n"
     ]
    }
   ],
   "source": [
    "%%time\n",
    "from xgboost import XGBRegressor\n",
    "from sklearn.cross_validation import train_test_split\n",
    "\n",
    "#copy contents of df\n",
    "dfPredict = df.copy()\n",
    "dfTest = test_data.copy()\n",
    "\n",
    "#Label to predict\n",
    "y_reg = dfPredict['transactionRevenue_log'].fillna(0)\n",
    "#y_reg"
   ]
  },
  {
   "cell_type": "code",
   "execution_count": 67,
   "metadata": {
    "collapsed": true
   },
   "outputs": [],
   "source": [
    "excluded_features = [ 'fullVisitorId', 'sessionId', 'transactionRevenue', \n",
    "    'visitId', 'visitStartTime', 'transactionRevenue_log','visits', 'visitNumber', 'isTrueDirect', \n",
    "          'adContent','networkDomain','isVideoAd','gclId','slot', 'adNetworkType','keyword','referralPath', 'page'\n",
    "]\n",
    "\n",
    "categorical_features = [\n",
    "    _f for _f in dfPredict.columns\n",
    "    if (_f not in excluded_features) & (dfPredict[_f].dtype == 'object')\n",
    "]\n",
    "\n",
    "for f in categorical_features:\n",
    "    dfPredict[f], indexer = pd.factorize(dfPredict[f])\n",
    "    dfTest[f] = indexer.get_indexer(dfTest[f])  "
   ]
  },
  {
   "cell_type": "code",
   "execution_count": 68,
   "metadata": {},
   "outputs": [
    {
     "ename": "NameError",
     "evalue": "name 'train_features' is not defined",
     "output_type": "error",
     "traceback": [
      "\u001b[1;31m---------------------------------------------------------------------------\u001b[0m",
      "\u001b[1;31mNameError\u001b[0m                                 Traceback (most recent call last)",
      "\u001b[1;32m<ipython-input-68-1374c63a609a>\u001b[0m in \u001b[0;36m<module>\u001b[1;34m()\u001b[0m\n\u001b[1;32m----> 1\u001b[1;33m \u001b[0mdfPredict\u001b[0m\u001b[1;33m[\u001b[0m\u001b[0mtrain_features\u001b[0m\u001b[1;33m]\u001b[0m\u001b[1;33m.\u001b[0m\u001b[0mcount\u001b[0m\u001b[1;33m(\u001b[0m\u001b[1;33m)\u001b[0m\u001b[1;33m\u001b[0m\u001b[0m\n\u001b[0m",
      "\u001b[1;31mNameError\u001b[0m: name 'train_features' is not defined"
     ]
    }
   ],
   "source": [
    "dfPredict[train_features].count()"
   ]
  },
  {
   "cell_type": "code",
   "execution_count": null,
   "metadata": {},
   "outputs": [],
   "source": [
    "#features to train on\n",
    "train_features = [_f for _f in dfPredict.columns if _f not in excluded_features]\n",
    "dfPredict[train_features].shape"
   ]
  },
  {
   "cell_type": "code",
   "execution_count": null,
   "metadata": {},
   "outputs": [],
   "source": [
    "cor = dfPredict[train_features].corr() \n",
    "#print cor\n",
    "sns.heatmap(cor, square = True) "
   ]
  },
  {
   "cell_type": "code",
   "execution_count": null,
   "metadata": {},
   "outputs": [],
   "source": [
    "%%time\n",
    "X_train, X_test, Y_train, Y_test = train_test_split(dfPredict[train_features] ,y_reg, test_size=0.2)"
   ]
  },
  {
   "cell_type": "code",
   "execution_count": null,
   "metadata": {},
   "outputs": [],
   "source": [
    "xgb = XGBRegressor()\n",
    "xgb.fit(X_train, Y_train, eval_metric='rmse',verbose=100)"
   ]
  },
  {
   "cell_type": "code",
   "execution_count": null,
   "metadata": {},
   "outputs": [],
   "source": [
    "%%time\n",
    "ypredXGB = xgb.predict(X_test)"
   ]
  },
  {
   "cell_type": "code",
   "execution_count": null,
   "metadata": {},
   "outputs": [],
   "source": [
    "ypredXGB[ypredXGB < 0] =0\n",
    "ypredXGB"
   ]
  },
  {
   "cell_type": "code",
   "execution_count": null,
   "metadata": {},
   "outputs": [],
   "source": [
    "from sklearn.metrics import mean_squared_error\n",
    "import math\n",
    "\n",
    "print(\"XGBoost: sqrt  \", math.sqrt(mean_squared_error(Y_test, ypredXGB)))"
   ]
  },
  {
   "cell_type": "code",
   "execution_count": null,
   "metadata": {},
   "outputs": [],
   "source": [
    "print X_train.shape\n",
    "# print test_data[train_features].shape"
   ]
  },
  {
   "cell_type": "code",
   "execution_count": null,
   "metadata": {
    "collapsed": true
   },
   "outputs": [],
   "source": [
    "my_regression_op = xgb.predict(dfTest[train_features])"
   ]
  },
  {
   "cell_type": "code",
   "execution_count": null,
   "metadata": {},
   "outputs": [],
   "source": [
    "my_regression_op[my_regression_op < 0] =0\n",
    "my_regression_op"
   ]
  },
  {
   "cell_type": "code",
   "execution_count": null,
   "metadata": {
    "collapsed": true
   },
   "outputs": [],
   "source": [
    "fullVisitorId = test_data['fullVisitorId']"
   ]
  },
  {
   "cell_type": "code",
   "execution_count": null,
   "metadata": {
    "collapsed": true
   },
   "outputs": [],
   "source": [
    "# submit to csv file for kaggle submission\n",
    "submit1 = pd.DataFrame({'fullVisitorId': fullVisitorId,'PredictedLogRevenue':my_regression_op},columns=['fullVisitorId','PredictedLogRevenue'])"
   ]
  },
  {
   "cell_type": "code",
   "execution_count": null,
   "metadata": {},
   "outputs": [],
   "source": [
    "submit1 = submit1.groupby('fullVisitorId').sum().reset_index()\n",
    "\n",
    "# display user vs transaction for predicted values\n",
    "plt.figure(figsize=(8,6))\n",
    "plt.scatter(range(submit1.shape[0]), np.sort((submit1[\"PredictedLogRevenue\"].values)))\n",
    "plt.xlabel('Index', fontsize=14)\n",
    "plt.ylabel('Transaction Revenue', fontsize=14)\n",
    "plt.show()"
   ]
  },
  {
   "cell_type": "code",
   "execution_count": null,
   "metadata": {},
   "outputs": [],
   "source": [
    "submit1.head()"
   ]
  },
  {
   "cell_type": "code",
   "execution_count": null,
   "metadata": {
    "collapsed": true
   },
   "outputs": [],
   "source": [
    "submit1.shape"
   ]
  },
  {
   "cell_type": "markdown",
   "metadata": {},
   "source": [
    "### b) Using Light GBM"
   ]
  },
  {
   "cell_type": "code",
   "execution_count": null,
   "metadata": {},
   "outputs": [],
   "source": [
    "%%time\n",
    "import lightgbm as lgb\n",
    "\n",
    "model = lgb.LGBMRegressor()\n",
    "model.fit(X_train, Y_train, eval_metric='rmse', verbose=1000)\n",
    "y_predLGBM = model.predict(X_test)   "
   ]
  },
  {
   "cell_type": "code",
   "execution_count": null,
   "metadata": {},
   "outputs": [],
   "source": [
    "lgb.plot_importance(model, max_num_features=30);"
   ]
  },
  {
   "cell_type": "code",
   "execution_count": null,
   "metadata": {},
   "outputs": [],
   "source": [
    "%%time\n",
    "y_predLGBM[y_predLGBM < 0] =0\n",
    "y_predLGBM\n",
    "\n",
    "#RMSE\n",
    "print(\"Light GBM: RMSE  \", math.sqrt(mean_squared_error(Y_test, y_predLGBM)))"
   ]
  },
  {
   "cell_type": "code",
   "execution_count": null,
   "metadata": {},
   "outputs": [],
   "source": [
    "my_regression_op2 = model.predict(dfTest[train_features], num_iteration=model.best_iteration_)\n",
    "my_regression_op2[my_regression_op2 < 0] =0\n",
    "my_regression_op2"
   ]
  },
  {
   "cell_type": "code",
   "execution_count": null,
   "metadata": {
    "collapsed": true
   },
   "outputs": [],
   "source": [
    "submit2 = pd.DataFrame({'fullVisitorId': fullVisitorId,'PredictedLogRevenue':my_regression_op2},columns=['fullVisitorId','PredictedLogRevenue'])"
   ]
  },
  {
   "cell_type": "code",
   "execution_count": null,
   "metadata": {},
   "outputs": [],
   "source": [
    "submit2 = submit2.groupby('fullVisitorId').sum().reset_index()\n",
    "\n",
    "plt.figure(figsize=(8,6))\n",
    "plt.scatter(range(submit2.shape[0]), np.sort((submit2[\"PredictedLogRevenue\"].values)))\n",
    "plt.xlabel('Index', fontsize=14)\n",
    "plt.ylabel('Transaction Revenue', fontsize=14)\n",
    "plt.show()"
   ]
  },
  {
   "cell_type": "code",
   "execution_count": null,
   "metadata": {
    "collapsed": true
   },
   "outputs": [],
   "source": [
    "# file for kaggle submission\n",
    "submit2.to_csv(\"banani_sub2.csv\",index=False)"
   ]
  },
  {
   "cell_type": "markdown",
   "metadata": {},
   "source": [
    "## 7. Permutation Test"
   ]
  },
  {
   "cell_type": "code",
   "execution_count": null,
   "metadata": {
    "collapsed": true
   },
   "outputs": [],
   "source": [
    "from sklearn.utils import shuffle\n",
    "\n",
    "# function to shuffle values in 1 column\n",
    "def shuf(df, col, n):\n",
    "    a = df[col]\n",
    "    df.drop(col, axis=1, inplace=True)  \n",
    "    for i in range(n):\n",
    "        a = shuffle(a)\n",
    "    a = a.reset_index()\n",
    "    #print a\n",
    "    df[col] = a[col]\n",
    "    return df"
   ]
  },
  {
   "cell_type": "markdown",
   "metadata": {},
   "source": [
    "#### Variable 1 - Country"
   ]
  },
  {
   "cell_type": "code",
   "execution_count": null,
   "metadata": {
    "scrolled": true
   },
   "outputs": [],
   "source": [
    "%%time\n",
    "permDf = X_train.copy()\n",
    "rmse = []\n",
    "\n",
    "# permuation function\n",
    "for i in range(300):\n",
    "    shuf(permDf, 'country', 10)\n",
    "    model.fit(permDf, Y_train, eval_metric='rmse', verbose=1000)\n",
    "    y_permute = model.predict(X_test)   \n",
    "    y_permute[y_permute < 0] =0\n",
    "    #print(\"RMSE: \",i,  math.sqrt(mean_squared_error(y_test, y_permute)))\n",
    "    rmse.append(math.sqrt(mean_squared_error(Y_test, y_permute)))\n",
    "    permDf = X_train.copy()"
   ]
  },
  {
   "cell_type": "code",
   "execution_count": null,
   "metadata": {
    "collapsed": true
   },
   "outputs": [],
   "source": [
    "# rmse"
   ]
  },
  {
   "cell_type": "code",
   "execution_count": null,
   "metadata": {},
   "outputs": [],
   "source": [
    "# plotting the permutation function\n",
    "rmse1 = rmse\n",
    "print(len(rmse1))\n",
    "plt.figure(figsize=(5,5))\n",
    "sns.distplot(rmse1)\n",
    "plt.show()"
   ]
  },
  {
   "cell_type": "code",
   "execution_count": null,
   "metadata": {
    "collapsed": true
   },
   "outputs": [],
   "source": [
    "# p values= is  (0+1)/301 = 0.0033"
   ]
  },
  {
   "cell_type": "markdown",
   "metadata": {},
   "source": [
    "#### Variable 2 - Operating System"
   ]
  },
  {
   "cell_type": "code",
   "execution_count": null,
   "metadata": {},
   "outputs": [],
   "source": [
    "%%time\n",
    "permDf = X_train.copy()\n",
    "rmse2 = []\n",
    "for i in range(1):\n",
    "    shuf(permDf, 'operatingSystem', 10)\n",
    "    model.fit(permDf, Y_train, eval_metric='rmse', verbose=1000)\n",
    "    y_permute = model.predict(X_test)   \n",
    "    y_permute[y_permute < 0] =0\n",
    "    #print(\"RMSE: \",i,  math.sqrt(mean_squared_error(y_test, y_permute)))\n",
    "    rmse2.append(math.sqrt(mean_squared_error(Y_test, y_permute)))\n",
    "    permDf = X_train.copy()"
   ]
  },
  {
   "cell_type": "code",
   "execution_count": null,
   "metadata": {},
   "outputs": [],
   "source": [
    "count=1\n",
    "for i in rmse:\n",
    "    if(i < 1.62):\n",
    "        count = count+1\n",
    "pval = count/301        \n",
    "print (\"%.2f\" % (pval)) \n",
    "# p values= is  (0+1)/301 = 0.0033"
   ]
  },
  {
   "cell_type": "code",
   "execution_count": null,
   "metadata": {},
   "outputs": [],
   "source": [
    "rmse\n",
    "# p values= is  (0+1)/301 = 0.0033"
   ]
  },
  {
   "cell_type": "code",
   "execution_count": null,
   "metadata": {},
   "outputs": [],
   "source": [
    "rmse_2 = rmse\n",
    "print(len(rmse_2))\n",
    "plt.figure(figsize=(5,5))\n",
    "sns.distplot(rmse_2)\n",
    "plt.show()"
   ]
  },
  {
   "cell_type": "markdown",
   "metadata": {},
   "source": [
    "#### Variable 3 - Medium"
   ]
  },
  {
   "cell_type": "code",
   "execution_count": null,
   "metadata": {
    "collapsed": true
   },
   "outputs": [],
   "source": [
    "%%time\n",
    "permDf = X_train.copy()\n",
    "rmse2 = []\n",
    "for i in range(5):\n",
    "    shuf(permDf, 'medium', 300)\n",
    "    model.fit(permDf, Y_train, eval_metric='rmse', verbose=1000)\n",
    "    y_permute = model.predict(X_test)   \n",
    "    y_permute[y_permute < 0] =0\n",
    "    #print(\"RMSE: \",i,  math.sqrt(mean_squared_error(y_test, y_permute)))\n",
    "    rmse2.append(math.sqrt(mean_squared_error(Y_test, y_permute)))\n",
    "    permDf = X_train.copy()"
   ]
  },
  {
   "cell_type": "code",
   "execution_count": null,
   "metadata": {
    "collapsed": true
   },
   "outputs": [],
   "source": [
    "# p values= is  (0+1)/301 = 0.0033"
   ]
  }
 ],
 "metadata": {
  "kernelspec": {
   "display_name": "Python 2",
   "language": "python",
   "name": "python2"
  },
  "language_info": {
   "codemirror_mode": {
    "name": "ipython",
    "version": 2
   },
   "file_extension": ".py",
   "mimetype": "text/x-python",
   "name": "python",
   "nbconvert_exporter": "python",
   "pygments_lexer": "ipython2",
   "version": "2.7.13"
  }
 },
 "nbformat": 4,
 "nbformat_minor": 2
}
